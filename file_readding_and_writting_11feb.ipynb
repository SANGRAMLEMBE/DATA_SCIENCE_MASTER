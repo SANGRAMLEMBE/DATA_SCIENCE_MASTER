{
 "cells": [
  {
   "cell_type": "code",
   "execution_count": 25,
   "id": "cb288a54",
   "metadata": {},
   "outputs": [],
   "source": [
    "data ={ \n",
    "    \"name\":\"sangram\",\n",
    "    \"mail\":\"sangram@gmail.com\",\n",
    "    \"ph no\":\"9158416688\",\n",
    "    \"subject\":[\"data science\",\"big data\",\"data analytics\"]\n",
    "    \n",
    "}"
   ]
  },
  {
   "cell_type": "code",
   "execution_count": 26,
   "id": "68867b00",
   "metadata": {},
   "outputs": [],
   "source": [
    "import json    # in json we can write in key value pairs."
   ]
  },
  {
   "cell_type": "code",
   "execution_count": 27,
   "id": "e1b4dc29",
   "metadata": {},
   "outputs": [],
   "source": [
    "with open(\"data.json\",\"w\") as f:\n",
    "    json.dump(data,f)   # dump will help to write a data."
   ]
  },
  {
   "cell_type": "code",
   "execution_count": 28,
   "id": "61313f0a",
   "metadata": {},
   "outputs": [],
   "source": [
    "with open(\"data.json\",\"r\")as f:\n",
    "    data1 = json.load(f)   # we use load to read the data from file"
   ]
  },
  {
   "cell_type": "code",
   "execution_count": 29,
   "id": "77da128d",
   "metadata": {},
   "outputs": [
    {
     "data": {
      "text/plain": [
       "{'name': 'sangram',\n",
       " 'mail': 'sangram@gmail.com',\n",
       " 'ph no': '9158416688',\n",
       " 'subject': ['data science', 'big data', 'data analytics']}"
      ]
     },
     "execution_count": 29,
     "metadata": {},
     "output_type": "execute_result"
    }
   ],
   "source": [
    "data1"
   ]
  },
  {
   "cell_type": "code",
   "execution_count": 30,
   "id": "54393f9f",
   "metadata": {},
   "outputs": [
    {
     "data": {
      "text/plain": [
       "['data science', 'big data', 'data analytics']"
      ]
     },
     "execution_count": 30,
     "metadata": {},
     "output_type": "execute_result"
    }
   ],
   "source": [
    "data1['subject']"
   ]
  },
  {
   "cell_type": "code",
   "execution_count": 31,
   "id": "10d67bcf",
   "metadata": {},
   "outputs": [
    {
     "data": {
      "text/plain": [
       "'big data'"
      ]
     },
     "execution_count": 31,
     "metadata": {},
     "output_type": "execute_result"
    }
   ],
   "source": [
    "data1['subject'][1]"
   ]
  },
  {
   "cell_type": "code",
   "execution_count": 32,
   "id": "7573760b",
   "metadata": {},
   "outputs": [],
   "source": [
    "import csv"
   ]
  },
  {
   "cell_type": "code",
   "execution_count": 33,
   "id": "839d0200",
   "metadata": {},
   "outputs": [],
   "source": [
    "data  =[[\"name\",\"email_id\",\"ph_no\"],\n",
    "        [\"sangram\",\"sangram@gmail.com\",\"915841668\"],\n",
    "        [\"jeevan\",\"jeevan@gmail.com\",\"9052102653\"],\n",
    "]"
   ]
  },
  {
   "cell_type": "code",
   "execution_count": 34,
   "id": "8d2b213a",
   "metadata": {},
   "outputs": [],
   "source": [
    "with open(\"data.csv\",\"w\") as f:\n",
    "    writer = csv.writer(f)\n",
    "    \n",
    "    for i  in data:\n",
    "        writer.writerow(i)\n",
    "        \n",
    "# here we using csv file and performming "
   ]
  },
  {
   "cell_type": "code",
   "execution_count": 35,
   "id": "dfc6ea82",
   "metadata": {},
   "outputs": [
    {
     "name": "stdout",
     "output_type": "stream",
     "text": [
      "['name', 'email_id', 'ph_no']\n",
      "['', '', '']\n",
      "['sangram', 'sangram@gmail.com', '915841668']\n",
      "['', '', '']\n",
      "['jeevan', 'jeevan@gmail.com', '9052102653']\n"
     ]
    }
   ],
   "source": [
    "with open (\"data.csv\",\"r\") as f:\n",
    "    read_data = csv.reader(f)\n",
    "    \n",
    "    for i  in read_data:\n",
    "        print(i)\n",
    "        "
   ]
  },
  {
   "cell_type": "code",
   "execution_count": 37,
   "id": "2ce2825e",
   "metadata": {},
   "outputs": [],
   "source": [
    "with open(\"test4.bin\",\"wb\") as f:  # here we have to wb as write bit other wise it shows error\n",
    "    f.write(b\"\\x01\\x02\\x031113123132\")   # here b means the data is in binary "
   ]
  },
  {
   "cell_type": "code",
   "execution_count": 38,
   "id": "473f54bc",
   "metadata": {},
   "outputs": [
    {
     "name": "stdout",
     "output_type": "stream",
     "text": [
      "b'\\x01\\x02\\x031113123132'\n"
     ]
    }
   ],
   "source": [
    "with open(\"test4.bin\",\"rb\") as f:\n",
    "    print(f.read())"
   ]
  },
  {
   "cell_type": "code",
   "execution_count": null,
   "id": "1cffa782",
   "metadata": {},
   "outputs": [],
   "source": []
  }
 ],
 "metadata": {
  "kernelspec": {
   "display_name": "Python 3 (ipykernel)",
   "language": "python",
   "name": "python3"
  },
  "language_info": {
   "codemirror_mode": {
    "name": "ipython",
    "version": 3
   },
   "file_extension": ".py",
   "mimetype": "text/x-python",
   "name": "python",
   "nbconvert_exporter": "python",
   "pygments_lexer": "ipython3",
   "version": "3.9.13"
  }
 },
 "nbformat": 4,
 "nbformat_minor": 5
}

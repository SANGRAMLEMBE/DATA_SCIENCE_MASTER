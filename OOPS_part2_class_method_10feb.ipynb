{
 "cells": [
  {
   "cell_type": "code",
   "execution_count": 2,
   "id": "32aa1861",
   "metadata": {},
   "outputs": [],
   "source": [
    "class pwskills:\n",
    "    def __init__(self,name,email):\n",
    "        self.name = name\n",
    "        self.email = email\n",
    "        \n",
    "    def students_details(self):\n",
    "        print(self.name,self.email)\n",
    "    "
   ]
  },
  {
   "cell_type": "code",
   "execution_count": 3,
   "id": "3b4ae6e1",
   "metadata": {},
   "outputs": [],
   "source": [
    "pw =pwskills(\"sangram\",\"sangramlembe9696@gmail.com\")"
   ]
  },
  {
   "cell_type": "code",
   "execution_count": 5,
   "id": "a2e70fee",
   "metadata": {},
   "outputs": [
    {
     "data": {
      "text/plain": [
       "'sangram'"
      ]
     },
     "execution_count": 5,
     "metadata": {},
     "output_type": "execute_result"
    }
   ],
   "source": [
    "pw.name"
   ]
  },
  {
   "cell_type": "code",
   "execution_count": 6,
   "id": "b7bc884e",
   "metadata": {},
   "outputs": [
    {
     "data": {
      "text/plain": [
       "'sangramlembe9696@gmail.com'"
      ]
     },
     "execution_count": 6,
     "metadata": {},
     "output_type": "execute_result"
    }
   ],
   "source": [
    "pw.email"
   ]
  },
  {
   "cell_type": "code",
   "execution_count": 7,
   "id": "efe38da3",
   "metadata": {},
   "outputs": [
    {
     "name": "stdout",
     "output_type": "stream",
     "text": [
      "sangram sangramlembe9696@gmail.com\n"
     ]
    }
   ],
   "source": [
    "pw.students_details()"
   ]
  },
  {
   "cell_type": "code",
   "execution_count": 9,
   "id": "ec192773",
   "metadata": {},
   "outputs": [],
   "source": [
    "class pwskills1:\n",
    "    def __init__(self,name,email):\n",
    "        self.name = name\n",
    "        self.email = email\n",
    "        \n",
    "    @classmethod\n",
    "    def details(cls,name ,email):\n",
    "        #we created cls pointer which bound directly with class\n",
    "        return cls(name,email)\n",
    "    \n",
    "    def students_details(self):\n",
    "        print(self.name,self.email)\n",
    "        \n",
    "# the main perpose of using class method is to overlodding."
   ]
  },
  {
   "cell_type": "code",
   "execution_count": 16,
   "id": "1d6543bd",
   "metadata": {},
   "outputs": [
    {
     "data": {
      "text/plain": [
       "<__main__.pwskills1 at 0x25a4931d820>"
      ]
     },
     "execution_count": 16,
     "metadata": {},
     "output_type": "execute_result"
    }
   ],
   "source": [
    "pwskills1.details(\"jeevan\",\"jeevan@gmail.com\")\n",
    "\n",
    "#here we can directly access it by class name"
   ]
  },
  {
   "cell_type": "code",
   "execution_count": 17,
   "id": "3d569f53",
   "metadata": {},
   "outputs": [],
   "source": [
    "pw1=pwskills1.details(\"jeevan\",\"jeevan@gmail.com\")\n"
   ]
  },
  {
   "cell_type": "code",
   "execution_count": 18,
   "id": "01eefa34",
   "metadata": {},
   "outputs": [
    {
     "data": {
      "text/plain": [
       "'jeevan'"
      ]
     },
     "execution_count": 18,
     "metadata": {},
     "output_type": "execute_result"
    }
   ],
   "source": [
    "pw1.name"
   ]
  },
  {
   "cell_type": "code",
   "execution_count": 19,
   "id": "02403f32",
   "metadata": {},
   "outputs": [
    {
     "data": {
      "text/plain": [
       "'jeevan@gmail.com'"
      ]
     },
     "execution_count": 19,
     "metadata": {},
     "output_type": "execute_result"
    }
   ],
   "source": [
    "pw1.email"
   ]
  },
  {
   "cell_type": "code",
   "execution_count": 33,
   "id": "e7466ffa",
   "metadata": {},
   "outputs": [],
   "source": [
    "class pwskills2:\n",
    "    mobile_no = 9158416688     # class variable\n",
    "    def __init__(self,name,email):\n",
    "        self.name = name\n",
    "        self.email = email\n",
    "        \n",
    "    @classmethod\n",
    "    def change_no(cls, mobile):\n",
    "        pwskills2.mobile_no = mobile\n",
    "        \n",
    "        \n",
    "    @classmethod\n",
    "    def details(cls,name ,email):\n",
    "        #we created cls pointer which bound directly with class\n",
    "        return cls(name,email)\n",
    "    \n",
    "    def students_details(self):\n",
    "        print(self.name,self.email,pwskills2.mobile_no)  \n",
    "        #here we can not use self , we use classname\n",
    "        #in python overloading is not posible so do it by class method"
   ]
  },
  {
   "cell_type": "code",
   "execution_count": 34,
   "id": "733c6d3d",
   "metadata": {},
   "outputs": [
    {
     "data": {
      "text/plain": [
       "9158416688"
      ]
     },
     "execution_count": 34,
     "metadata": {},
     "output_type": "execute_result"
    }
   ],
   "source": [
    "pwskills2.mobile_no\n",
    "# we don't required any function to access it"
   ]
  },
  {
   "cell_type": "code",
   "execution_count": 35,
   "id": "eff9d7d1",
   "metadata": {},
   "outputs": [],
   "source": [
    "pwskills2.change_no(9028417896)"
   ]
  },
  {
   "cell_type": "code",
   "execution_count": 36,
   "id": "84a539fb",
   "metadata": {},
   "outputs": [
    {
     "data": {
      "text/plain": [
       "9028417896"
      ]
     },
     "execution_count": 36,
     "metadata": {},
     "output_type": "execute_result"
    }
   ],
   "source": [
    "pwskills2.mobile_no"
   ]
  },
  {
   "cell_type": "code",
   "execution_count": 37,
   "id": "f900de38",
   "metadata": {},
   "outputs": [],
   "source": [
    "pw_obj = pwskills2(\"sudh\",\"sudh@gmail.com\") # by using object"
   ]
  },
  {
   "cell_type": "code",
   "execution_count": 38,
   "id": "f401c7f4",
   "metadata": {},
   "outputs": [
    {
     "name": "stdout",
     "output_type": "stream",
     "text": [
      "sudh sudh@gmail.com 9028417896\n"
     ]
    }
   ],
   "source": [
    "pw_obj.students_details()"
   ]
  },
  {
   "cell_type": "code",
   "execution_count": 40,
   "id": "c11e9e03",
   "metadata": {},
   "outputs": [],
   "source": [
    "pw = pwskills2.details(\"rutik\",\"rutik@gamil.com\")"
   ]
  },
  {
   "cell_type": "code",
   "execution_count": 42,
   "id": "304253a3",
   "metadata": {},
   "outputs": [
    {
     "name": "stdout",
     "output_type": "stream",
     "text": [
      "rutik rutik@gamil.com 9028417896\n"
     ]
    }
   ],
   "source": [
    "pw.students_details()"
   ]
  },
  {
   "cell_type": "code",
   "execution_count": 43,
   "id": "109bf982",
   "metadata": {},
   "outputs": [],
   "source": [
    "class pwskills3:\n",
    "    mobile_no = 9158416688     # class variable\n",
    "    def __init__(self,name,email):\n",
    "        self.name = name\n",
    "        self.email = email\n",
    "        \n",
    "    @classmethod\n",
    "    def change_no(cls, mobile):\n",
    "        pwskills2.mobile_no = mobile\n",
    "        \n",
    "        \n",
    "    @classmethod\n",
    "    def details(cls,name ,email):\n",
    "        #we created cls pointer which bound directly with class\n",
    "        return cls(name,email)\n",
    "    \n",
    "    def students_details(self):\n",
    "        print(self.name,self.email,pwskills2.mobile_no) "
   ]
  },
  {
   "cell_type": "code",
   "execution_count": 44,
   "id": "fa9421f9",
   "metadata": {},
   "outputs": [],
   "source": [
    "#how add external function in class \n",
    "def course_details(cls,course_name):\n",
    "    print(\"course name is\",course_name)\n",
    "    "
   ]
  },
  {
   "cell_type": "code",
   "execution_count": 45,
   "id": "22b0ed69",
   "metadata": {},
   "outputs": [],
   "source": [
    "pwskills3.course_details = classmethod(course_details)"
   ]
  },
  {
   "cell_type": "code",
   "execution_count": 49,
   "id": "74c42580",
   "metadata": {},
   "outputs": [
    {
     "name": "stdout",
     "output_type": "stream",
     "text": [
      "course name is Datascience Master\n"
     ]
    }
   ],
   "source": [
    "pwskills3.course_details(\"Datascience Master\")"
   ]
  },
  {
   "cell_type": "code",
   "execution_count": 55,
   "id": "45a5fdc6",
   "metadata": {},
   "outputs": [],
   "source": [
    "def mentor(cls,list_of_mentor):\n",
    "    print(list_of_mentor)\n",
    "    "
   ]
  },
  {
   "cell_type": "code",
   "execution_count": 56,
   "id": "7464fed6",
   "metadata": {},
   "outputs": [],
   "source": [
    "pwskills3.mentor = classmethod(mentor)"
   ]
  },
  {
   "cell_type": "code",
   "execution_count": 57,
   "id": "b4fb0918",
   "metadata": {},
   "outputs": [
    {
     "name": "stdout",
     "output_type": "stream",
     "text": [
      "['sudhanshu', 'krish']\n"
     ]
    }
   ],
   "source": [
    "pwskills3.mentor([\"sudhanshu\",\"krish\"])"
   ]
  },
  {
   "cell_type": "code",
   "execution_count": 58,
   "id": "cbfcde8f",
   "metadata": {},
   "outputs": [],
   "source": [
    "class pwskills4:\n",
    "    mobile_no = 9158416688     # class variable\n",
    "    def __init__(self,name,email):\n",
    "        self.name = name\n",
    "        self.email = email\n",
    "        \n",
    "    @classmethod\n",
    "    def change_no(cls, mobile):\n",
    "        pwskills2.mobile_no = mobile\n",
    "        \n",
    "        \n",
    "    @classmethod\n",
    "    def details(cls,name ,email):\n",
    "        #we created cls pointer which bound directly with class\n",
    "        return cls(name,email)\n",
    "    \n",
    "    def students_details(self):\n",
    "        print(self.name,self.email,pwskills2.mobile_no) "
   ]
  },
  {
   "cell_type": "code",
   "execution_count": 60,
   "id": "12d51e12",
   "metadata": {},
   "outputs": [
    {
     "ename": "AttributeError",
     "evalue": "change_no",
     "output_type": "error",
     "traceback": [
      "\u001b[1;31m---------------------------------------------------------------------------\u001b[0m",
      "\u001b[1;31mAttributeError\u001b[0m                            Traceback (most recent call last)",
      "\u001b[1;32m~\\AppData\\Local\\Temp\\ipykernel_4920\\130579514.py\u001b[0m in \u001b[0;36m<module>\u001b[1;34m\u001b[0m\n\u001b[0;32m      1\u001b[0m \u001b[1;31m# How to delet function in class\u001b[0m\u001b[1;33m\u001b[0m\u001b[1;33m\u001b[0m\u001b[0m\n\u001b[1;32m----> 2\u001b[1;33m \u001b[1;32mdel\u001b[0m \u001b[0mpwskills4\u001b[0m\u001b[1;33m.\u001b[0m\u001b[0mchange_no\u001b[0m\u001b[1;33m\u001b[0m\u001b[1;33m\u001b[0m\u001b[0m\n\u001b[0m",
      "\u001b[1;31mAttributeError\u001b[0m: change_no"
     ]
    }
   ],
   "source": [
    "# How to delet function in class\n",
    "del pwskills4.change_no\n",
    "\n",
    "#change_number is deleted"
   ]
  },
  {
   "cell_type": "code",
   "execution_count": 61,
   "id": "8505af3f",
   "metadata": {},
   "outputs": [],
   "source": [
    "delattr(pwskills4 , \"details\")\n",
    "\n",
    "# here we pass (class name , function in string) "
   ]
  },
  {
   "cell_type": "code",
   "execution_count": null,
   "id": "384e0c26",
   "metadata": {},
   "outputs": [],
   "source": [
    "pwskills4."
   ]
  }
 ],
 "metadata": {
  "kernelspec": {
   "display_name": "Python 3 (ipykernel)",
   "language": "python",
   "name": "python3"
  },
  "language_info": {
   "codemirror_mode": {
    "name": "ipython",
    "version": 3
   },
   "file_extension": ".py",
   "mimetype": "text/x-python",
   "name": "python",
   "nbconvert_exporter": "python",
   "pygments_lexer": "ipython3",
   "version": "3.9.13"
  }
 },
 "nbformat": 4,
 "nbformat_minor": 5
}

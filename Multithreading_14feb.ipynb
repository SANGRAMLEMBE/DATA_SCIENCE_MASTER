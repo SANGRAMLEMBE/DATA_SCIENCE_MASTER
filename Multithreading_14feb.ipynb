{
 "cells": [
  {
   "cell_type": "code",
   "execution_count": 1,
   "id": "55c77b72",
   "metadata": {},
   "outputs": [],
   "source": [
    "import threading"
   ]
  },
  {
   "cell_type": "code",
   "execution_count": 8,
   "id": "a5aa3916",
   "metadata": {},
   "outputs": [],
   "source": [
    "def test(id):\n",
    "    print(\"program start %d\"% id)"
   ]
  },
  {
   "cell_type": "code",
   "execution_count": 9,
   "id": "c49b516d",
   "metadata": {},
   "outputs": [
    {
     "name": "stdout",
     "output_type": "stream",
     "text": [
      "program start 45\n"
     ]
    }
   ],
   "source": [
    "test(45)"
   ]
  },
  {
   "cell_type": "code",
   "execution_count": 13,
   "id": "e393aac6",
   "metadata": {},
   "outputs": [],
   "source": [
    "thread = [threading.Thread(target = test , args=(i,) )for i in range (10)]\n",
    "# here we try to exicute with different inputs."
   ]
  },
  {
   "cell_type": "code",
   "execution_count": 14,
   "id": "54c6a9ee",
   "metadata": {},
   "outputs": [
    {
     "name": "stdout",
     "output_type": "stream",
     "text": [
      "program start 0\n",
      "program start 1\n",
      "program start 2\n",
      "program start 3\n",
      "program start 4\n",
      "program start 5\n",
      "program start 6\n",
      "program start 7\n",
      "program start 8\n",
      "program start 9\n"
     ]
    }
   ],
   "source": [
    "for t in thread:\n",
    "    t.start()"
   ]
  },
  {
   "cell_type": "code",
   "execution_count": 15,
   "id": "6ae8b48c",
   "metadata": {},
   "outputs": [
    {
     "data": {
      "text/plain": [
       "[0, 1, 2, 3, 4, 5, 6, 7, 8, 9]"
      ]
     },
     "execution_count": 15,
     "metadata": {},
     "output_type": "execute_result"
    }
   ],
   "source": [
    "list(range(10))"
   ]
  },
  {
   "cell_type": "code",
   "execution_count": 16,
   "id": "19cf84a4",
   "metadata": {},
   "outputs": [
    {
     "data": {
      "text/plain": [
       "[<Thread(Thread-25, stopped 5876)>,\n",
       " <Thread(Thread-26, stopped 15024)>,\n",
       " <Thread(Thread-27, stopped 20284)>,\n",
       " <Thread(Thread-28, stopped 19656)>,\n",
       " <Thread(Thread-29, stopped 19452)>,\n",
       " <Thread(Thread-30, stopped 15160)>,\n",
       " <Thread(Thread-31, stopped 13632)>,\n",
       " <Thread(Thread-32, stopped 20260)>,\n",
       " <Thread(Thread-33, stopped 10652)>,\n",
       " <Thread(Thread-34, stopped 18840)>]"
      ]
     },
     "execution_count": 16,
     "metadata": {},
     "output_type": "execute_result"
    }
   ],
   "source": [
    "thread"
   ]
  },
  {
   "cell_type": "code",
   "execution_count": 17,
   "id": "3cba3581",
   "metadata": {},
   "outputs": [
    {
     "data": {
      "text/plain": [
       "2770956617344"
      ]
     },
     "execution_count": 17,
     "metadata": {},
     "output_type": "execute_result"
    }
   ],
   "source": [
    "id(thread)"
   ]
  },
  {
   "cell_type": "code",
   "execution_count": 19,
   "id": "d97dfef0",
   "metadata": {},
   "outputs": [],
   "source": [
    "import threading\n",
    "import urllib.request\n",
    "\n",
    "def file_download(url,filename):\n",
    "    urllib.request.urlretrieve(url , filename)\n",
    "    # this library help use to file push\n",
    "    \n",
    "# now here we have to fitch the data from github link to local folder"
   ]
  },
  {
   "cell_type": "code",
   "execution_count": 21,
   "id": "3fc96ebf",
   "metadata": {},
   "outputs": [],
   "source": [
    "file_download(\"https://raw.githubusercontent.com/itsfoss/text-files/master/agatha.txt\",\"test_multithreding.txt\")\n",
    "# this is a normal way to fitch a data from url\n"
   ]
  },
  {
   "cell_type": "code",
   "execution_count": 22,
   "id": "1eba600b",
   "metadata": {},
   "outputs": [],
   "source": [
    "url_list= [\"https://raw.githubusercontent.com/itsfoss/text-files/master/agatha.txt\",\"https://raw.githubusercontent.com/itsfoss/text-files/master/sherlock.txt\",\"https://raw.githubusercontent.com/itsfoss/text-files/master/sample_log_file.txt\"]"
   ]
  },
  {
   "cell_type": "code",
   "execution_count": 34,
   "id": "e5b8e55e",
   "metadata": {},
   "outputs": [
    {
     "data": {
      "text/plain": [
       "['https://raw.githubusercontent.com/itsfoss/text-files/master/agatha.txt',\n",
       " 'https://raw.githubusercontent.com/itsfoss/text-files/master/sherlock.txt',\n",
       " 'https://raw.githubusercontent.com/itsfoss/text-files/master/sample_log_file.txt']"
      ]
     },
     "execution_count": 34,
     "metadata": {},
     "output_type": "execute_result"
    }
   ],
   "source": [
    "url_list\n",
    "# this is the list of urls "
   ]
  },
  {
   "cell_type": "code",
   "execution_count": 35,
   "id": "452f8721",
   "metadata": {},
   "outputs": [],
   "source": [
    "file_name_list = [\"data1_multithreding.txt\",\"data2_multithreding.txt\",\"data3_multithreding.txt\"]\n",
    "# this is list of files in which we have to store a data."
   ]
  },
  {
   "cell_type": "code",
   "execution_count": 40,
   "id": "09f411ed",
   "metadata": {},
   "outputs": [],
   "source": [
    "# now we want to store a data through url but the all the 3 url are run by 1 core\n",
    "# only so we can do multi threding in 1 core\n",
    "\n",
    "ther = [threading.Thread(target = file_download , args = (url_list[i] , file_name_list[i])) for i in range (len(url_list) ) ]\n",
    "\n",
    "# here we performing thread opration on threding , after that we set the target \n",
    "# which function we have to repeate then we have to send argument which are going \n",
    "# to use "
   ]
  },
  {
   "cell_type": "code",
   "execution_count": 41,
   "id": "876b85b2",
   "metadata": {},
   "outputs": [
    {
     "data": {
      "text/plain": [
       "[<Thread(Thread-35, initial)>,\n",
       " <Thread(Thread-36, initial)>,\n",
       " <Thread(Thread-37, initial)>]"
      ]
     },
     "execution_count": 41,
     "metadata": {},
     "output_type": "execute_result"
    }
   ],
   "source": [
    "# it will be run in very easy manner , it will take function then argument and\n",
    "# run and it will be work sequentially.\n",
    "ther"
   ]
  },
  {
   "cell_type": "code",
   "execution_count": 43,
   "id": "df72fdb8",
   "metadata": {},
   "outputs": [],
   "source": [
    "# now we have to run a theads so we run one by one\n",
    "for t in ther :\n",
    "    t.start()"
   ]
  },
  {
   "cell_type": "code",
   "execution_count": 44,
   "id": "c08dff0b",
   "metadata": {},
   "outputs": [],
   "source": [
    "import time"
   ]
  },
  {
   "cell_type": "code",
   "execution_count": 58,
   "id": "b6004948",
   "metadata": {},
   "outputs": [],
   "source": [
    "def test1(id):\n",
    "    for i in range(10):\n",
    "        print(\"test1 %d printing %d \"%(id,i))\n",
    "        time.sleep(1) # this functn kept system sleep for 1 mili secound"
   ]
  },
  {
   "cell_type": "code",
   "execution_count": 59,
   "id": "73dd8a60",
   "metadata": {},
   "outputs": [
    {
     "name": "stdout",
     "output_type": "stream",
     "text": [
      "test1 1 printing 0 \n",
      "test1 1 printing 1 \n",
      "test1 1 printing 2 \n",
      "test1 1 printing 3 \n",
      "test1 1 printing 4 \n",
      "test1 1 printing 5 \n",
      "test1 1 printing 6 \n",
      "test1 1 printing 7 \n",
      "test1 1 printing 8 \n",
      "test1 1 printing 9 \n"
     ]
    }
   ],
   "source": [
    "test1(1)  # this is only working for single id."
   ]
  },
  {
   "cell_type": "code",
   "execution_count": 62,
   "id": "18425bce",
   "metadata": {},
   "outputs": [],
   "source": [
    "def test1(id):\n",
    "    for i in range(10):\n",
    "        print(\"test1 %d printing %d \"%(id,i))\n",
    "        #time.sleep(1) # this functn kept system sleep for 1 mili secound\n"
   ]
  },
  {
   "cell_type": "code",
   "execution_count": 63,
   "id": "1c3212d5",
   "metadata": {},
   "outputs": [],
   "source": [
    "thread_1 = [threading.Thread(target= test1 , args=(i,)) for i in range(3)]"
   ]
  },
  {
   "cell_type": "code",
   "execution_count": 64,
   "id": "c3ff5fb3",
   "metadata": {},
   "outputs": [
    {
     "name": "stdout",
     "output_type": "stream",
     "text": [
      "test1 0 printing 0 \n",
      "test1 0 printing 1 \n",
      "test1 0 printing 2 \n",
      "test1 0 printing 3 \n",
      "test1 0 printing 4 \n",
      "test1 0 printing 5 \n",
      "test1 0 printing 6 \n",
      "test1 0 printing 7 \n",
      "test1 0 printing 8 \n",
      "test1 0 printing 9 \n",
      "test1 1 printing 0 \n",
      "test1 1 printing 1 \n",
      "test1 1 printing 2 \n",
      "test1 1 printing 3 \n",
      "test1 1 printing 4 \n",
      "test1 1 printing 5 \n",
      "test1 1 printing 6 \n",
      "test1 1 printing 7 \n",
      "test1 1 printing 8 \n",
      "test1 1 printing 9 \n",
      "test1 2 printing 0 \n",
      "test1 2 printing 1 \n",
      "test1 2 printing 2 \n",
      "test1 2 printing 3 \n",
      "test1 2 printing 4 \n",
      "test1 2 printing 5 \n",
      "test1 2 printing 6 \n",
      "test1 2 printing 7 \n",
      "test1 2 printing 8 \n",
      "test1 2 printing 9 \n"
     ]
    }
   ],
   "source": [
    "for t in thread_1:\n",
    "    t.start()"
   ]
  },
  {
   "cell_type": "code",
   "execution_count": 65,
   "id": "133ac549",
   "metadata": {},
   "outputs": [],
   "source": [
    "import time\n"
   ]
  },
  {
   "cell_type": "code",
   "execution_count": 66,
   "id": "0b9048b7",
   "metadata": {},
   "outputs": [],
   "source": [
    "def test1(id):\n",
    "    for i in range(10):\n",
    "        print(\"test1 %d printing %d %s \" %(id,i , time.ctime()))\n",
    "        time.sleep(1)\n",
    "        \n",
    "# if we want to print a time also then we use ctime"
   ]
  },
  {
   "cell_type": "code",
   "execution_count": 67,
   "id": "244c5ac4",
   "metadata": {},
   "outputs": [
    {
     "name": "stdout",
     "output_type": "stream",
     "text": [
      "test1 0 printing 0 Thu Jul 13 00:24:20 2023 \n",
      "test1 0 printing 1 Thu Jul 13 00:24:21 2023 \n",
      "test1 0 printing 2 Thu Jul 13 00:24:22 2023 \n",
      "test1 0 printing 3 Thu Jul 13 00:24:23 2023 \n",
      "test1 0 printing 4 Thu Jul 13 00:24:24 2023 \n",
      "test1 0 printing 5 Thu Jul 13 00:24:25 2023 \n",
      "test1 0 printing 6 Thu Jul 13 00:24:26 2023 \n",
      "test1 0 printing 7 Thu Jul 13 00:24:27 2023 \n",
      "test1 0 printing 8 Thu Jul 13 00:24:28 2023 \n",
      "test1 0 printing 9 Thu Jul 13 00:24:29 2023 \n"
     ]
    }
   ],
   "source": [
    "test1(0)"
   ]
  },
  {
   "cell_type": "code",
   "execution_count": 68,
   "id": "cd53b391",
   "metadata": {},
   "outputs": [],
   "source": [
    "thread_1 = [threading.Thread(target= test1 , args=(i,)) for i in range(3)]"
   ]
  },
  {
   "cell_type": "code",
   "execution_count": 69,
   "id": "82e01b79",
   "metadata": {},
   "outputs": [
    {
     "name": "stdout",
     "output_type": "stream",
     "text": [
      "test1 0 printing 0 Thu Jul 13 00:30:03 2023 \n",
      "test1 1 printing 0 Thu Jul 13 00:30:03 2023 \n",
      "test1 2 printing 0 Thu Jul 13 00:30:03 2023 \n",
      "test1 1 printing 1 Thu Jul 13 00:30:04 2023 test1 2 printing 1 Thu Jul 13 00:30:04 2023 \n",
      "test1 0 printing 1 Thu Jul 13 00:30:04 2023 \n",
      "\n",
      "test1 1 printing 2 Thu Jul 13 00:30:05 2023 test1 0 printing 2 Thu Jul 13 00:30:05 2023 \n",
      "test1 2 printing 2 Thu Jul 13 00:30:05 2023 \n",
      "\n",
      "test1 1 printing 3 Thu Jul 13 00:30:06 2023 \n",
      "test1 2 printing 3 Thu Jul 13 00:30:06 2023 \n",
      "test1 0 printing 3 Thu Jul 13 00:30:06 2023 \n",
      "test1 0 printing 4 Thu Jul 13 00:30:07 2023 test1 2 printing 4 Thu Jul 13 00:30:07 2023 \n",
      "test1 1 printing 4 Thu Jul 13 00:30:07 2023 \n",
      "\n",
      "test1 0 printing 5 Thu Jul 13 00:30:08 2023 test1 1 printing 5 Thu Jul 13 00:30:08 2023 \n",
      "test1 2 printing 5 Thu Jul 13 00:30:08 2023 \n",
      "\n",
      "test1 0 printing 6 Thu Jul 13 00:30:09 2023 test1 2 printing 6 Thu Jul 13 00:30:09 2023 \n",
      "test1 1 printing 6 Thu Jul 13 00:30:09 2023 \n",
      "\n",
      "test1 0 printing 7 Thu Jul 13 00:30:10 2023 test1 1 printing 7 Thu Jul 13 00:30:10 2023 \n",
      "test1 2 printing 7 Thu Jul 13 00:30:10 2023 \n",
      "\n",
      "test1 0 printing 8 Thu Jul 13 00:30:11 2023 test1 2 printing 8 Thu Jul 13 00:30:11 2023 \n",
      "test1 1 printing 8 Thu Jul 13 00:30:11 2023 \n",
      "\n",
      "test1 0 printing 9 Thu Jul 13 00:30:12 2023 test1 1 printing 9 Thu Jul 13 00:30:12 2023 \n",
      "test1 2 printing 9 Thu Jul 13 00:30:12 2023 \n",
      "\n"
     ]
    }
   ],
   "source": [
    "for t in thread_1:\n",
    "    t.start()\n",
    "    \n",
    "# here we utilize resouse very well\n"
   ]
  },
  {
   "cell_type": "code",
   "execution_count": 95,
   "id": "1147cf19",
   "metadata": {},
   "outputs": [],
   "source": [
    "shared_var = 0 \n",
    "lock_var = threading.Lock()"
   ]
  },
  {
   "cell_type": "code",
   "execution_count": 96,
   "id": "42f08ff0",
   "metadata": {},
   "outputs": [],
   "source": [
    "def test2(id):\n",
    "    global shared_var\n",
    "    with lock_var:\n",
    "        shared_var = shared_var+1\n",
    "        print(\"test 2 id is %d has increassed the shared variable by %d \" %(id,shared_var))\n",
    "        time.sleep(1)"
   ]
  },
  {
   "cell_type": "code",
   "execution_count": 97,
   "id": "086abfbd",
   "metadata": {},
   "outputs": [],
   "source": [
    "ther_3 =[ threading.Thread(target = test2 , args=(i,)) for i in range(3) ] "
   ]
  },
  {
   "cell_type": "code",
   "execution_count": 98,
   "id": "4f002020",
   "metadata": {},
   "outputs": [
    {
     "data": {
      "text/plain": [
       "[<Thread(Thread-71, initial)>,\n",
       " <Thread(Thread-72, initial)>,\n",
       " <Thread(Thread-73, initial)>]"
      ]
     },
     "execution_count": 98,
     "metadata": {},
     "output_type": "execute_result"
    }
   ],
   "source": [
    "ther_3"
   ]
  },
  {
   "cell_type": "code",
   "execution_count": 99,
   "id": "bc53d4a8",
   "metadata": {},
   "outputs": [
    {
     "name": "stdout",
     "output_type": "stream",
     "text": [
      "test 2 id is 0 has increassed the shared variable by 1 \n",
      "test 2 id is 1 has increassed the shared variable by 2 \n",
      "test 2 id is 2 has increassed the shared variable by 3 \n"
     ]
    }
   ],
   "source": [
    "for t in ther_3:\n",
    "    t.start()\n",
    "# here we running 3 programs \n",
    "# our main motive is they all can access it one by one\n",
    "# and then modified it.\n"
   ]
  },
  {
   "cell_type": "code",
   "execution_count": null,
   "id": "6df24c12",
   "metadata": {},
   "outputs": [],
   "source": []
  }
 ],
 "metadata": {
  "kernelspec": {
   "display_name": "Python 3 (ipykernel)",
   "language": "python",
   "name": "python3"
  },
  "language_info": {
   "codemirror_mode": {
    "name": "ipython",
    "version": 3
   },
   "file_extension": ".py",
   "mimetype": "text/x-python",
   "name": "python",
   "nbconvert_exporter": "python",
   "pygments_lexer": "ipython3",
   "version": "3.9.13"
  }
 },
 "nbformat": 4,
 "nbformat_minor": 5
}

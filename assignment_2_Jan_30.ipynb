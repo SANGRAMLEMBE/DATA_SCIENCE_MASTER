{
 "cells": [
  {
   "cell_type": "code",
   "execution_count": 5,
   "id": "00470a4f",
   "metadata": {},
   "outputs": [
    {
     "name": "stdout",
     "output_type": "stream",
     "text": [
      "enter the marks 90\n",
      "B\n"
     ]
    }
   ],
   "source": [
    "# 1] write a program to accept percentage from the user and display the grade acordinglly\n",
    "marks=float(input(\"enter the marks \"))\n",
    "if marks>90:\n",
    "    print(\"A\")\n",
    "        \n",
    "elif marks>80 and marks<=90:\n",
    "    print(\"B\")\n",
    "        \n",
    "elif marks>=60 and marks<=80:\n",
    "    print(\"c\")\n",
    "elif marks<=60:\n",
    "    print(\"D\")"
   ]
  },
  {
   "cell_type": "code",
   "execution_count": 6,
   "id": "7b7cfa02",
   "metadata": {},
   "outputs": [
    {
     "name": "stdout",
     "output_type": "stream",
     "text": [
      "enter the marks 95\n",
      "grade =  A\n"
     ]
    }
   ],
   "source": [
    "# 1] write a program to accept percentage from the user and display the grade acordinglly\n",
    "marks=float(input(\"enter the marks \"))\n",
    "if marks>90:\n",
    "    grade=\"A\"\n",
    "        \n",
    "elif marks>80 and marks<=90:\n",
    "    grade=\"B\"\n",
    "        \n",
    "elif marks>=60 and marks<=80:\n",
    "    grade=\"C\"\n",
    "elif marks<=60:\n",
    "    grade=\"D\"\n",
    "    \n",
    "print(\"grade = \",grade)"
   ]
  },
  {
   "cell_type": "code",
   "execution_count": 10,
   "id": "8ecd0a68",
   "metadata": {},
   "outputs": [
    {
     "name": "stdout",
     "output_type": "stream",
     "text": [
      "enter the price of bike15000\n",
      "5%\n"
     ]
    }
   ],
   "source": [
    "''' write a program to accept the cost price of a bike and \n",
    "display the road tax to paid according the criteria'''\n",
    "\n",
    "cost_price=float(input(\"enter the price of bike\"))\n",
    "if cost_price>100000:\n",
    "    print(\"15%\")\n",
    "elif cost_price>50000 and cost_price<=100000:\n",
    "    print(\"10%\")\n",
    "elif cost_price<=50000:\n",
    "    print(\"5%\")"
   ]
  },
  {
   "cell_type": "code",
   "execution_count": 22,
   "id": "664fdf51",
   "metadata": {},
   "outputs": [
    {
     "name": "stdout",
     "output_type": "stream",
     "text": [
      "enter the citydelhi\n",
      "red fort\n"
     ]
    }
   ],
   "source": [
    "''' accept any city from the uer  and display monuments of that city.'''\n",
    "city =str(input(\"enter the city = \"))\n",
    "\n",
    "if city == \"delhi\"or city == \"Delhi\":\n",
    "    print(\"red fort\")\n",
    "elif city == \"agra\"or city == \"Agra\":\n",
    "    print(\"Taj Mahal\")\n",
    "elif city == \"Jaipur\"or city == \"jaipur\":\n",
    "    print(\"Jal Mahal\")\n"
   ]
  },
  {
   "cell_type": "code",
   "execution_count": null,
   "id": "a5643bc4",
   "metadata": {},
   "outputs": [],
   "source": [
    "# check how many times a given number can be divided by 3 before it is less than\n",
    "#or eual to 10"
   ]
  },
  {
   "cell_type": "code",
   "execution_count": 29,
   "id": "c91b3e2c",
   "metadata": {},
   "outputs": [
    {
     "name": "stdout",
     "output_type": "stream",
     "text": [
      "The number 100 can be divided by 3 approximately 3 times before it is less than or equal to 10.\n"
     ]
    }
   ],
   "source": [
    "def divide_by_3_until_10(number):\n",
    "    count = 0\n",
    "    while number > 10:\n",
    "        number /= 3\n",
    "        count += 1\n",
    "    return count\n",
    "\n",
    "given_number = 100\n",
    "result = divide_by_3_until_10(given_number)\n",
    "print(f\"The number {given_number} can be divided by 3 approximately {result} times before it is less than or equal to 10.\")"
   ]
  },
  {
   "cell_type": "code",
   "execution_count": 31,
   "id": "d0bc20d5",
   "metadata": {},
   "outputs": [
    {
     "data": {
      "text/plain": [
       "'why and when to use while loop in python give a detailed description\\nwith example\\n\\n\\nThe while loop in Python is used when you want to repeatedly execute a block\\nof code as long as a specific condition is true. It allows you to create \\ndynamic and flexible loops that continue iterating until a certain condition \\nis no longer satisfied.\\n\\nwhile condition:\\n\\n\\nexample to illustrate the usage of a while loop:\\n\\ncounter = 0\\nwhile counter < 5:\\n    print(\"Count:\", counter)\\n    counter += 1\\n\\nIn this example ,the \\'counter\\'variable is initialized to 0. The \\'while\\' loop\\ncontinues executiing as longer as \\'counter\\' is less than loop,the current value \\nof \\'counter\\' is printed , and then \\'counter\\' is incremented by 1.\\n\\nthis process repeats until \\'counter\\' reaches 5 , at which point the condition \\nbecomes false, and loop terminates.\\n\\nthe while loop is particularly useful when you don\\'t know in advance how many \\ntimes the loop needs to execute. It allows you to iterate dynamically until a \\nspecific condition is met.'"
      ]
     },
     "execution_count": 31,
     "metadata": {},
     "output_type": "execute_result"
    }
   ],
   "source": [
    "'''why and when to use while loop in python give a detailed description\n",
    "with example\n",
    "\n",
    "\n",
    "The while loop in Python is used when you want to repeatedly execute a block\n",
    "of code as long as a specific condition is true. It allows you to create \n",
    "dynamic and flexible loops that continue iterating until a certain condition \n",
    "is no longer satisfied.\n",
    "\n",
    "while condition:\n",
    "\n",
    "\n",
    "example to illustrate the usage of a while loop:\n",
    "\n",
    "counter = 0\n",
    "while counter < 5:\n",
    "    print(\"Count:\", counter)\n",
    "    counter += 1\n",
    "\n",
    "In this example ,the 'counter'variable is initialized to 0. The 'while' loop\n",
    "continues executiing as longer as 'counter' is less than loop,the current value \n",
    "of 'counter' is printed , and then 'counter' is incremented by 1.\n",
    "\n",
    "this process repeats until 'counter' reaches 5 , at which point the condition \n",
    "becomes false, and loop terminates.\n",
    "\n",
    "the while loop is particularly useful when you don't know in advance how many \n",
    "times the loop needs to execute. It allows you to iterate dynamically until a \n",
    "specific condition is met.'''\n"
   ]
  },
  {
   "cell_type": "code",
   "execution_count": 33,
   "id": "b09c5c06",
   "metadata": {},
   "outputs": [
    {
     "name": "stdout",
     "output_type": "stream",
     "text": [
      "* \n",
      "* * \n",
      "* * * \n",
      "* * * * \n",
      "* * * * * \n"
     ]
    }
   ],
   "source": [
    "#use nested while loop to print 3 different pattern\n",
    "#1) triangle\n",
    "rows=5\n",
    "i=1\n",
    "\n",
    "while i<=rows:\n",
    "    j=1\n",
    "    while j<=i:\n",
    "        print(\"*\",end=\" \")\n",
    "        j += 1\n",
    "    print()\n",
    "    i+=1"
   ]
  },
  {
   "cell_type": "code",
   "execution_count": 34,
   "id": "22f5a693",
   "metadata": {},
   "outputs": [
    {
     "name": "stdout",
     "output_type": "stream",
     "text": [
      "* * * * \n",
      "* * * * \n",
      "* * * * \n",
      "* * * * \n"
     ]
    }
   ],
   "source": [
    "#square\n",
    "rows =4\n",
    "i=1\n",
    "\n",
    "while i<=rows:\n",
    "    j=1\n",
    "    while j<=rows:\n",
    "        print(\"*\",end=\" \")\n",
    "        j+=1\n",
    "    print()\n",
    "    i+=1"
   ]
  },
  {
   "cell_type": "code",
   "execution_count": 37,
   "id": "a9a25ca9",
   "metadata": {},
   "outputs": [
    {
     "name": "stdout",
     "output_type": "stream",
     "text": [
      "        * \n",
      "      * * \n",
      "    * * * \n",
      "  * * * * \n",
      "* * * * * \n"
     ]
    }
   ],
   "source": [
    "#pyramid\n",
    "rows = 5\n",
    "i=1\n",
    "k = rows -1\n",
    "\n",
    "while i<=rows:\n",
    "    j=1\n",
    "    while j<=k:\n",
    "        print(\" \",end=\" \")\n",
    "        j+=1\n",
    "    j=1\n",
    "    while j<=i:\n",
    "        print(\"*\",end=\" \")\n",
    "        j+=1\n",
    "    print()\n",
    "    i+=1\n",
    "    k-=1"
   ]
  },
  {
   "cell_type": "code",
   "execution_count": 38,
   "id": "db995be7",
   "metadata": {},
   "outputs": [
    {
     "name": "stdout",
     "output_type": "stream",
     "text": [
      "10\n",
      "9\n",
      "8\n",
      "7\n",
      "6\n",
      "5\n",
      "4\n",
      "3\n",
      "2\n",
      "1\n"
     ]
    }
   ],
   "source": [
    "#reverse a while loop to display numbers from 10 to 1.\n",
    "num = 10\n",
    "while num>=1:\n",
    "    \n",
    "    print(num)\n",
    "    num-=1"
   ]
  },
  {
   "cell_type": "code",
   "execution_count": null,
   "id": "30e2ed76",
   "metadata": {},
   "outputs": [],
   "source": []
  }
 ],
 "metadata": {
  "kernelspec": {
   "display_name": "Python 3 (ipykernel)",
   "language": "python",
   "name": "python3"
  },
  "language_info": {
   "codemirror_mode": {
    "name": "ipython",
    "version": 3
   },
   "file_extension": ".py",
   "mimetype": "text/x-python",
   "name": "python",
   "nbconvert_exporter": "python",
   "pygments_lexer": "ipython3",
   "version": "3.9.13"
  }
 },
 "nbformat": 4,
 "nbformat_minor": 5
}

{
 "cells": [
  {
   "cell_type": "code",
   "execution_count": null,
   "id": "879f9013",
   "metadata": {},
   "outputs": [],
   "source": [
    "#oops stands for object oriented programming system"
   ]
  },
  {
   "cell_type": "code",
   "execution_count": 2,
   "id": "f3382285",
   "metadata": {},
   "outputs": [],
   "source": [
    "a=1 "
   ]
  },
  {
   "cell_type": "code",
   "execution_count": 3,
   "id": "9f10d343",
   "metadata": {},
   "outputs": [
    {
     "name": "stdout",
     "output_type": "stream",
     "text": [
      "<class 'int'>\n"
     ]
    }
   ],
   "source": [
    "print(type(a))"
   ]
  },
  {
   "cell_type": "code",
   "execution_count": 4,
   "id": "543d7b18",
   "metadata": {},
   "outputs": [
    {
     "name": "stdout",
     "output_type": "stream",
     "text": [
      "<class 'str'>\n"
     ]
    }
   ],
   "source": [
    "print(type(\"pwskills\"))"
   ]
  },
  {
   "cell_type": "code",
   "execution_count": 5,
   "id": "410b3b15",
   "metadata": {},
   "outputs": [],
   "source": [
    "class test:\n",
    "    pass\n",
    "# if we want to create a blank class then we have to use pass ;\n",
    "#otherwise it shows error of incomplition of class\n",
    "\n",
    "    "
   ]
  },
  {
   "cell_type": "code",
   "execution_count": 6,
   "id": "86f8f287",
   "metadata": {},
   "outputs": [],
   "source": [
    "a=test()"
   ]
  },
  {
   "cell_type": "code",
   "execution_count": 8,
   "id": "864b5934",
   "metadata": {},
   "outputs": [
    {
     "data": {
      "text/plain": [
       "__main__.test"
      ]
     },
     "execution_count": 8,
     "metadata": {},
     "output_type": "execute_result"
    }
   ],
   "source": [
    "type(a)\n",
    "\n",
    "##now here it showing the type of a is test which we declared above"
   ]
  },
  {
   "cell_type": "code",
   "execution_count": 9,
   "id": "69773766",
   "metadata": {},
   "outputs": [
    {
     "name": "stdout",
     "output_type": "stream",
     "text": [
      "<class '__main__.test'>\n"
     ]
    }
   ],
   "source": [
    "print(type(a))"
   ]
  },
  {
   "cell_type": "code",
   "execution_count": 20,
   "id": "73774f01",
   "metadata": {},
   "outputs": [],
   "source": [
    "class pwskills:\n",
    "    def welcome_message(self):\n",
    "        print(\"welcome to pwsills\")\n",
    "        \n",
    "    # here we using self to know the class the running  process is ours."
   ]
  },
  {
   "cell_type": "code",
   "execution_count": 21,
   "id": "e999f82b",
   "metadata": {},
   "outputs": [],
   "source": [
    "rohan =pwskills()"
   ]
  },
  {
   "cell_type": "code",
   "execution_count": 22,
   "id": "17f35fd5",
   "metadata": {},
   "outputs": [
    {
     "name": "stdout",
     "output_type": "stream",
     "text": [
      "<class '__main__.pwskills'>\n"
     ]
    }
   ],
   "source": [
    "print(type(rohan))"
   ]
  },
  {
   "cell_type": "code",
   "execution_count": 23,
   "id": "5d8c5a29",
   "metadata": {},
   "outputs": [
    {
     "name": "stdout",
     "output_type": "stream",
     "text": [
      "welcome to pwsills\n"
     ]
    }
   ],
   "source": [
    "rohan.welcome_message()"
   ]
  },
  {
   "cell_type": "code",
   "execution_count": 27,
   "id": "d4a830a4",
   "metadata": {},
   "outputs": [],
   "source": [
    "sangram =pwskills()\n",
    "# here we enters the variable or attribute in class"
   ]
  },
  {
   "cell_type": "code",
   "execution_count": 25,
   "id": "efbb42bd",
   "metadata": {},
   "outputs": [
    {
     "name": "stdout",
     "output_type": "stream",
     "text": [
      "<class '__main__.pwskills'>\n"
     ]
    }
   ],
   "source": [
    "print(type(sangram))"
   ]
  },
  {
   "cell_type": "code",
   "execution_count": 26,
   "id": "5bf6f60e",
   "metadata": {},
   "outputs": [
    {
     "name": "stdout",
     "output_type": "stream",
     "text": [
      "welcome to pwsills\n"
     ]
    }
   ],
   "source": [
    "sangram.welcome_message()"
   ]
  },
  {
   "cell_type": "code",
   "execution_count": 28,
   "id": "7692e2e5",
   "metadata": {},
   "outputs": [],
   "source": [
    "class pwskills1:\n",
    "    \n",
    "    def __init__(self,phone_no , email_id ,student_id):\n",
    "        self.phone_no = phone_no\n",
    "        self.email_id=email_id\n",
    "        self.student_id=student_id\n",
    "        \n",
    "    def return_student_details(self):\n",
    "        return self.student_id,self.phone_no,self.email_id\n",
    "    \n",
    "        \n",
    "# here __init__ is a constructor , which is inbilte function used \n",
    "#for pass the data in class \n",
    "\n"
   ]
  },
  {
   "cell_type": "code",
   "execution_count": 30,
   "id": "a0b70830",
   "metadata": {},
   "outputs": [
    {
     "ename": "TypeError",
     "evalue": "__init__() missing 3 required positional arguments: 'phone_no', 'email_id', and 'student_id'",
     "output_type": "error",
     "traceback": [
      "\u001b[1;31m---------------------------------------------------------------------------\u001b[0m",
      "\u001b[1;31mTypeError\u001b[0m                                 Traceback (most recent call last)",
      "\u001b[1;32m~\\AppData\\Local\\Temp\\ipykernel_30988\\1312535087.py\u001b[0m in \u001b[0;36m<module>\u001b[1;34m\u001b[0m\n\u001b[1;32m----> 1\u001b[1;33m \u001b[0mrohan\u001b[0m\u001b[1;33m=\u001b[0m\u001b[0mpwskills1\u001b[0m\u001b[1;33m(\u001b[0m\u001b[1;33m)\u001b[0m\u001b[1;33m\u001b[0m\u001b[1;33m\u001b[0m\u001b[0m\n\u001b[0m\u001b[0;32m      2\u001b[0m \u001b[1;31m# when we use init function then it request to whole data ,other wise shows error\u001b[0m\u001b[1;33m\u001b[0m\u001b[1;33m\u001b[0m\u001b[0m\n",
      "\u001b[1;31mTypeError\u001b[0m: __init__() missing 3 required positional arguments: 'phone_no', 'email_id', and 'student_id'"
     ]
    }
   ],
   "source": [
    "rohan=pwskills1()\n",
    "# when we use init function then it request to whole data ,other wise shows error\n"
   ]
  },
  {
   "cell_type": "code",
   "execution_count": 32,
   "id": "24ffa523",
   "metadata": {},
   "outputs": [],
   "source": [
    "rohan=pwskills1(12121212122,\"rohan@gmail.com\",1024)\n"
   ]
  },
  {
   "cell_type": "code",
   "execution_count": 33,
   "id": "50a9a8a5",
   "metadata": {},
   "outputs": [
    {
     "data": {
      "text/plain": [
       "(1024, 12121212122, 'rohan@gmail.com')"
      ]
     },
     "execution_count": 33,
     "metadata": {},
     "output_type": "execute_result"
    }
   ],
   "source": [
    "rohan.return_student_details()"
   ]
  },
  {
   "cell_type": "code",
   "execution_count": 34,
   "id": "94cb4994",
   "metadata": {},
   "outputs": [],
   "source": [
    "sangram=pwskills1(985275468,\"sangram@gmail.com\",2244)"
   ]
  },
  {
   "cell_type": "code",
   "execution_count": 35,
   "id": "461f245a",
   "metadata": {},
   "outputs": [
    {
     "data": {
      "text/plain": [
       "(2244, 985275468, 'sangram@gmail.com')"
      ]
     },
     "execution_count": 35,
     "metadata": {},
     "output_type": "execute_result"
    }
   ],
   "source": [
    "sangram.return_student_details()"
   ]
  },
  {
   "cell_type": "code",
   "execution_count": 48,
   "id": "a45d935f",
   "metadata": {},
   "outputs": [],
   "source": [
    "class pwskills2:\n",
    "    \n",
    "    def __init__(self,phone_no , email_id ,student_id):\n",
    "        self.phone_no1 = phone_no\n",
    "        self.email_id1=email_id\n",
    "        self.student_id1=student_id\n",
    "        \n",
    "    def return_student_details(self):\n",
    "        return self.student_id1,self.phone_no1,self.email_id1"
   ]
  },
  {
   "cell_type": "code",
   "execution_count": 49,
   "id": "eaa97c3e",
   "metadata": {},
   "outputs": [],
   "source": [
    "sudh =pwskills2(9158416655,\"sudh@gmail.com\",1010)"
   ]
  },
  {
   "cell_type": "code",
   "execution_count": 50,
   "id": "9fe1627e",
   "metadata": {},
   "outputs": [
    {
     "data": {
      "text/plain": [
       "<__main__.pwskills2 at 0x2c0b1be2220>"
      ]
     },
     "execution_count": 50,
     "metadata": {},
     "output_type": "execute_result"
    }
   ],
   "source": [
    "sudh"
   ]
  },
  {
   "cell_type": "code",
   "execution_count": 51,
   "id": "cc419662",
   "metadata": {},
   "outputs": [
    {
     "data": {
      "text/plain": [
       "9158416655"
      ]
     },
     "execution_count": 51,
     "metadata": {},
     "output_type": "execute_result"
    }
   ],
   "source": [
    "sudh.phone_no1"
   ]
  },
  {
   "cell_type": "code",
   "execution_count": 52,
   "id": "f21ee018",
   "metadata": {},
   "outputs": [
    {
     "data": {
      "text/plain": [
       "'sangram@gmail.com'"
      ]
     },
     "execution_count": 52,
     "metadata": {},
     "output_type": "execute_result"
    }
   ],
   "source": [
    "sangram.email_id"
   ]
  },
  {
   "cell_type": "code",
   "execution_count": 53,
   "id": "2d933f8f",
   "metadata": {},
   "outputs": [
    {
     "ename": "AttributeError",
     "evalue": "'pwskills2' object has no attribute 'phone_no'",
     "output_type": "error",
     "traceback": [
      "\u001b[1;31m---------------------------------------------------------------------------\u001b[0m",
      "\u001b[1;31mAttributeError\u001b[0m                            Traceback (most recent call last)",
      "\u001b[1;32m~\\AppData\\Local\\Temp\\ipykernel_30988\\433352013.py\u001b[0m in \u001b[0;36m<module>\u001b[1;34m\u001b[0m\n\u001b[1;32m----> 1\u001b[1;33m \u001b[0msudh\u001b[0m\u001b[1;33m.\u001b[0m\u001b[0mphone_no\u001b[0m\u001b[1;33m\u001b[0m\u001b[1;33m\u001b[0m\u001b[0m\n\u001b[0m\u001b[0;32m      2\u001b[0m \u001b[1;33m\u001b[0m\u001b[0m\n\u001b[0;32m      3\u001b[0m \u001b[1;31m#when we input the sudh.phone_no1 it shows result,\u001b[0m\u001b[1;33m\u001b[0m\u001b[1;33m\u001b[0m\u001b[0m\n\u001b[0;32m      4\u001b[0m \u001b[1;31m#but when we use  sudh.phone_no it not showing result becoz self function gives\u001b[0m\u001b[1;33m\u001b[0m\u001b[1;33m\u001b[0m\u001b[0m\n\u001b[0;32m      5\u001b[0m \u001b[1;31m#the identity , this specific data is for our class.\u001b[0m\u001b[1;33m\u001b[0m\u001b[1;33m\u001b[0m\u001b[0m\n",
      "\u001b[1;31mAttributeError\u001b[0m: 'pwskills2' object has no attribute 'phone_no'"
     ]
    }
   ],
   "source": [
    " sudh.phone_no\n",
    "\n",
    "#when we input the sudh.phone_no1 it shows result, \n",
    "#but when we use  sudh.phone_no it not showing result becoz self function gives\n",
    "#the identity , this specific data is for our class.\n",
    "\n",
    "    "
   ]
  },
  {
   "cell_type": "code",
   "execution_count": 54,
   "id": "4bcf3f3e",
   "metadata": {},
   "outputs": [
    {
     "data": {
      "text/plain": [
       "(1010, 9158416655, 'sudh@gmail.com')"
      ]
     },
     "execution_count": 54,
     "metadata": {},
     "output_type": "execute_result"
    }
   ],
   "source": [
    "sudh.return_student_details()"
   ]
  },
  {
   "cell_type": "code",
   "execution_count": 57,
   "id": "3a3842ab",
   "metadata": {},
   "outputs": [],
   "source": [
    "class pwskills3:\n",
    "    \n",
    "    def __init__(xyz,phone_no , email_id ,student_id):\n",
    "        xyz.phone_no1 = phone_no\n",
    "        xyz.email_id1=email_id\n",
    "        xyz.student_id1=student_id\n",
    "        \n",
    "    def return_student_details(xyz):\n",
    "        return xyz.student_id1,xyz.phone_no1,xyz.email_id1 \n",
    "    \n",
    "#here we use the xyz as of self , when we use class we have to introduce pointer\n",
    "#1stly so , self and xyz both are the pointer which can accessed by class so it \n",
    "#is simillar in whole class , it can have any name .\n"
   ]
  },
  {
   "cell_type": "code",
   "execution_count": 58,
   "id": "fe7c68b8",
   "metadata": {},
   "outputs": [],
   "source": [
    "ram=pwskills3(9866412323,\"ram@sita\",5858)"
   ]
  },
  {
   "cell_type": "code",
   "execution_count": 59,
   "id": "a42c1f14",
   "metadata": {},
   "outputs": [
    {
     "data": {
      "text/plain": [
       "'ram@sita'"
      ]
     },
     "execution_count": 59,
     "metadata": {},
     "output_type": "execute_result"
    }
   ],
   "source": [
    "ram.email_id1"
   ]
  },
  {
   "cell_type": "code",
   "execution_count": 61,
   "id": "863c0755",
   "metadata": {},
   "outputs": [
    {
     "data": {
      "text/plain": [
       "(5858, 9866412323, 'ram@sita')"
      ]
     },
     "execution_count": 61,
     "metadata": {},
     "output_type": "execute_result"
    }
   ],
   "source": [
    "ram.return_student_details()"
   ]
  },
  {
   "cell_type": "code",
   "execution_count": null,
   "id": "817b36a1",
   "metadata": {},
   "outputs": [],
   "source": []
  }
 ],
 "metadata": {
  "kernelspec": {
   "display_name": "Python 3 (ipykernel)",
   "language": "python",
   "name": "python3"
  },
  "language_info": {
   "codemirror_mode": {
    "name": "ipython",
    "version": 3
   },
   "file_extension": ".py",
   "mimetype": "text/x-python",
   "name": "python",
   "nbconvert_exporter": "python",
   "pygments_lexer": "ipython3",
   "version": "3.9.13"
  }
 },
 "nbformat": 4,
 "nbformat_minor": 5
}

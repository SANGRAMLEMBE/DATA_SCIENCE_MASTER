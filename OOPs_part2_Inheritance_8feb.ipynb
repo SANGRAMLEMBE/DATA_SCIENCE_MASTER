{
 "cells": [
  {
   "cell_type": "code",
   "execution_count": 11,
   "id": "9f549c5e",
   "metadata": {},
   "outputs": [],
   "source": [
    "class test:\n",
    "    \n",
    "    def test_meth(abc):\n",
    "        return \"this is my first class .\""
   ]
  },
  {
   "cell_type": "code",
   "execution_count": 12,
   "id": "bd938aa1",
   "metadata": {},
   "outputs": [],
   "source": [
    "class child_test(test):\n",
    "    pass\n",
    "    "
   ]
  },
  {
   "cell_type": "code",
   "execution_count": 13,
   "id": "700e4259",
   "metadata": {},
   "outputs": [],
   "source": [
    "child_test_obj = child_test()"
   ]
  },
  {
   "cell_type": "code",
   "execution_count": 14,
   "id": "cc08844d",
   "metadata": {},
   "outputs": [
    {
     "data": {
      "text/plain": [
       "'this is my first class .'"
      ]
     },
     "execution_count": 14,
     "metadata": {},
     "output_type": "execute_result"
    }
   ],
   "source": [
    "child_test_obj.test_meth()"
   ]
  },
  {
   "cell_type": "code",
   "execution_count": 15,
   "id": "9d2acb53",
   "metadata": {},
   "outputs": [],
   "source": [
    "# multilable inheritance\n",
    "\n",
    "class class1:\n",
    "    \n",
    "    def test_class1(self):\n",
    "        return \"this is a meth from class1\""
   ]
  },
  {
   "cell_type": "code",
   "execution_count": 16,
   "id": "f2c22d9a",
   "metadata": {},
   "outputs": [],
   "source": [
    "class class2(class1):\n",
    "    \n",
    "    def test_class2(self):\n",
    "        return\"this is a meth from class 2\""
   ]
  },
  {
   "cell_type": "code",
   "execution_count": 17,
   "id": "25154ff1",
   "metadata": {},
   "outputs": [],
   "source": [
    "class class3(class2):\n",
    "    pass\n"
   ]
  },
  {
   "cell_type": "code",
   "execution_count": 20,
   "id": "18a014e8",
   "metadata": {},
   "outputs": [],
   "source": [
    "obj_class3 = class3()"
   ]
  },
  {
   "cell_type": "code",
   "execution_count": 22,
   "id": "7f053492",
   "metadata": {},
   "outputs": [
    {
     "data": {
      "text/plain": [
       "'this is a meth from class1'"
      ]
     },
     "execution_count": 22,
     "metadata": {},
     "output_type": "execute_result"
    }
   ],
   "source": [
    "obj_class3.test_class1()"
   ]
  },
  {
   "cell_type": "code",
   "execution_count": 23,
   "id": "e18fc5da",
   "metadata": {},
   "outputs": [
    {
     "data": {
      "text/plain": [
       "'this is a meth from class 2'"
      ]
     },
     "execution_count": 23,
     "metadata": {},
     "output_type": "execute_result"
    }
   ],
   "source": [
    "obj_class3.test_class2()"
   ]
  },
  {
   "cell_type": "code",
   "execution_count": 24,
   "id": "49e5abe2",
   "metadata": {},
   "outputs": [],
   "source": [
    "#MULTIPLE INHERITANCE\n",
    "\n",
    "class class1:\n",
    "    def test_class1(self):\n",
    "        return\"this is a class1\"\n",
    "    "
   ]
  },
  {
   "cell_type": "code",
   "execution_count": 27,
   "id": "ff4a6335",
   "metadata": {},
   "outputs": [],
   "source": [
    "class class2:\n",
    "    def test_class2(self):\n",
    "        \n",
    "        return \"this is class2\""
   ]
  },
  {
   "cell_type": "code",
   "execution_count": 29,
   "id": "a0447f3d",
   "metadata": {},
   "outputs": [],
   "source": [
    "class class3(class1,class2):\n",
    "    pass\n",
    "    "
   ]
  },
  {
   "cell_type": "code",
   "execution_count": 31,
   "id": "a41b5a6c",
   "metadata": {},
   "outputs": [],
   "source": [
    "obj_class3 = class3()"
   ]
  },
  {
   "cell_type": "code",
   "execution_count": 32,
   "id": "2408aec0",
   "metadata": {},
   "outputs": [
    {
     "data": {
      "text/plain": [
       "'this is a class1'"
      ]
     },
     "execution_count": 32,
     "metadata": {},
     "output_type": "execute_result"
    }
   ],
   "source": [
    "obj_class3.test_class1()"
   ]
  },
  {
   "cell_type": "code",
   "execution_count": 33,
   "id": "5d70ccb4",
   "metadata": {},
   "outputs": [
    {
     "data": {
      "text/plain": [
       "'this is class2'"
      ]
     },
     "execution_count": 33,
     "metadata": {},
     "output_type": "execute_result"
    }
   ],
   "source": [
    "obj_class3.test_class2()"
   ]
  },
  {
   "cell_type": "code",
   "execution_count": null,
   "id": "2898f5ad",
   "metadata": {},
   "outputs": [],
   "source": []
  }
 ],
 "metadata": {
  "kernelspec": {
   "display_name": "Python 3 (ipykernel)",
   "language": "python",
   "name": "python3"
  },
  "language_info": {
   "codemirror_mode": {
    "name": "ipython",
    "version": 3
   },
   "file_extension": ".py",
   "mimetype": "text/x-python",
   "name": "python",
   "nbconvert_exporter": "python",
   "pygments_lexer": "ipython3",
   "version": "3.9.13"
  }
 },
 "nbformat": 4,
 "nbformat_minor": 5
}

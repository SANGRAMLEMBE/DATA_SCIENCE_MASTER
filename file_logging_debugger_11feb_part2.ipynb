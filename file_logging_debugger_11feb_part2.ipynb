{
 "cells": [
  {
   "cell_type": "code",
   "execution_count": 2,
   "id": "6c12c1f7",
   "metadata": {},
   "outputs": [],
   "source": [
    "import logging"
   ]
  },
  {
   "cell_type": "code",
   "execution_count": 5,
   "id": "6b223ae8",
   "metadata": {},
   "outputs": [],
   "source": [
    "logging.basicConfig(filename=\"test01\",level = logging.DEBUG , format='%(asctime)s %(name)s %(levelname)s %(message)s')\n",
    "# we can define format here"
   ]
  },
  {
   "cell_type": "code",
   "execution_count": 6,
   "id": "6f211a89",
   "metadata": {},
   "outputs": [],
   "source": [
    "logging.info(\"This is my info logging\")\n",
    "logging.error(\"This is my error message\")\n",
    "logging.critical(\"this is my critical\")"
   ]
  },
  {
   "cell_type": "code",
   "execution_count": 7,
   "id": "146d8bae",
   "metadata": {},
   "outputs": [],
   "source": [
    "l=[1,2,3,56,[2,3,4],\"sangram\",\"jeevan\"]"
   ]
  },
  {
   "cell_type": "code",
   "execution_count": 13,
   "id": "f934548a",
   "metadata": {},
   "outputs": [],
   "source": [
    "l1_int=[]\n",
    "l2_str =[]\n",
    "\n",
    "for i in l :\n",
    "    logging.info(\"we are iterating through our list and our local var is i\"+str(l))\n",
    "    if type(i)==list:\n",
    "        logging.info(\"i am inside the statement and i am trying to check list type\"+str(i))\n",
    "        for j in i:\n",
    "            logging.info(\"i am in another for loop for list inside list element\"+str(j))\n",
    "            if type(j)==int:\n",
    "                logging.info(\"i am inside if statement\")\n",
    "                l1_int.append(j)\n",
    "    elif type(i) == int:\n",
    "        l1_int.append(i)\n",
    "    else:\n",
    "        if type(i)==str:\n",
    "            l2_str.append(i)\n",
    "            \n",
    "    "
   ]
  },
  {
   "cell_type": "code",
   "execution_count": 9,
   "id": "1d0c9b96",
   "metadata": {},
   "outputs": [
    {
     "data": {
      "text/plain": [
       "[1, 2, 3, 56, 2, 3, 4]"
      ]
     },
     "execution_count": 9,
     "metadata": {},
     "output_type": "execute_result"
    }
   ],
   "source": [
    "l1_int"
   ]
  },
  {
   "cell_type": "code",
   "execution_count": 10,
   "id": "1dcf5eca",
   "metadata": {},
   "outputs": [
    {
     "data": {
      "text/plain": [
       "['sangram', 'jeevan']"
      ]
     },
     "execution_count": 10,
     "metadata": {},
     "output_type": "execute_result"
    }
   ],
   "source": [
    "l2_str"
   ]
  },
  {
   "cell_type": "code",
   "execution_count": null,
   "id": "eb168ca7",
   "metadata": {},
   "outputs": [],
   "source": [
    "'''\n",
    "l1_int=[]\n",
    "l2_str =[]\n",
    "\n",
    "for i in l :\n",
    "    logging.info(\"we are iterating through our list and our local var is {}\".format(1)) # here we can also use list\n",
    "    if type(i)==list:\n",
    "        logging.info(\"i am inside the statement and i am trying to check list type\"+str(i))\n",
    "        for j in i:\n",
    "            logging.info(\"i am in another for loop for list inside list element\"+str(j))\n",
    "            if type(j)==int:\n",
    "                logging.info(\"i am inside if statement\")\n",
    "                l1_int.append(j)\n",
    "    elif type(i) == int:\n",
    "        l1_int.append(i)\n",
    "    else:\n",
    "        if type(i)==str:\n",
    "            l2_str.append(i)\n",
    "logging.info(\"my first result for int is {l1} and str is {l2}\".format(l1=l1_int, l2=l2_str))          \n",
    "'''"
   ]
  }
 ],
 "metadata": {
  "kernelspec": {
   "display_name": "Python 3 (ipykernel)",
   "language": "python",
   "name": "python3"
  },
  "language_info": {
   "codemirror_mode": {
    "name": "ipython",
    "version": 3
   },
   "file_extension": ".py",
   "mimetype": "text/x-python",
   "name": "python",
   "nbconvert_exporter": "python",
   "pygments_lexer": "ipython3",
   "version": "3.9.13"
  }
 },
 "nbformat": 4,
 "nbformat_minor": 5
}

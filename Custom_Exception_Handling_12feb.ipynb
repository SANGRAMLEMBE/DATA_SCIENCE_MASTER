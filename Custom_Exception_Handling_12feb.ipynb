{
 "cells": [
  {
   "cell_type": "code",
   "execution_count": 7,
   "id": "10f1bb4f",
   "metadata": {},
   "outputs": [
    {
     "name": "stdout",
     "output_type": "stream",
     "text": [
      "Enter your age -120\n"
     ]
    }
   ],
   "source": [
    "#custom exception handling \n",
    "# their are so many case when system do not have error butfor the casees it\n",
    "# is wrong , in that case we custom the code acordingly this is known as\n",
    "#custom exception handling\n",
    "\n",
    "\n",
    "age = int(input(\"Enter your age \"))\n",
    "# here the age can not be negative , but system do not show any error"
   ]
  },
  {
   "cell_type": "code",
   "execution_count": 12,
   "id": "530e9183",
   "metadata": {},
   "outputs": [],
   "source": [
    "class validate_age(Exception):    #custom class\n",
    "    def __init__(self,msg):        \n",
    "        self.msg = msg\n",
    "# here we create class in which we call the exception module ,"
   ]
  },
  {
   "cell_type": "code",
   "execution_count": 16,
   "id": "784b61c1",
   "metadata": {},
   "outputs": [],
   "source": [
    "def validatage(age):\n",
    "    if age<0:\n",
    "        raise validate_age(\"Entered age is negative \")\n",
    "    elif age>120:\n",
    "        raise validate_age(\"Entered age is very very high\")\n",
    "    else:\n",
    "        print(\"age is valied\")\n",
    "# here raise raises the the exceptios        \n",
    "# it is inherited with upper class so when this functon is get a called \n",
    "#then it will raise a message.\n"
   ]
  },
  {
   "cell_type": "code",
   "execution_count": 18,
   "id": "14955698",
   "metadata": {},
   "outputs": [
    {
     "name": "stdout",
     "output_type": "stream",
     "text": [
      "enter your age -10\n",
      "Entered age is negative \n"
     ]
    }
   ],
   "source": [
    "try :\n",
    "    age = int(input(\"enter your age \"))\n",
    "    validatage(age)\n",
    "except validate_age as e:\n",
    "    print(e)\n",
    "    "
   ]
  },
  {
   "cell_type": "code",
   "execution_count": null,
   "id": "e8726580",
   "metadata": {},
   "outputs": [],
   "source": []
  }
 ],
 "metadata": {
  "kernelspec": {
   "display_name": "Python 3 (ipykernel)",
   "language": "python",
   "name": "python3"
  },
  "language_info": {
   "codemirror_mode": {
    "name": "ipython",
    "version": 3
   },
   "file_extension": ".py",
   "mimetype": "text/x-python",
   "name": "python",
   "nbconvert_exporter": "python",
   "pygments_lexer": "ipython3",
   "version": "3.9.13"
  }
 },
 "nbformat": 4,
 "nbformat_minor": 5
}

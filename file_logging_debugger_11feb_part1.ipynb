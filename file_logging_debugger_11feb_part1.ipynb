{
 "cells": [
  {
   "cell_type": "code",
   "execution_count": 16,
   "id": "41bcae0b",
   "metadata": {},
   "outputs": [
    {
     "name": "stdout",
     "output_type": "stream",
     "text": [
      "this is my print\n"
     ]
    }
   ],
   "source": [
    "print(\"this is my print\")"
   ]
  },
  {
   "cell_type": "code",
   "execution_count": 17,
   "id": "9bc826b2",
   "metadata": {},
   "outputs": [],
   "source": [
    "import logging\n",
    "\n",
    "# it is use for storing the output of console permantally."
   ]
  },
  {
   "cell_type": "code",
   "execution_count": 18,
   "id": "021a39c5",
   "metadata": {},
   "outputs": [],
   "source": [
    "# here basically we import the basic configuration of logging modul\n",
    "# it will take data as **kwargs or as key value pair\n",
    "\n",
    "logging.basicConfig(filename= \"test.log\" , level= logging.INFO)\n",
    "#"
   ]
  },
  {
   "cell_type": "code",
   "execution_count": 19,
   "id": "ff9d769c",
   "metadata": {},
   "outputs": [],
   "source": [
    "logging.info(\"log this line of executation\")"
   ]
  },
  {
   "cell_type": "code",
   "execution_count": 20,
   "id": "871e6213",
   "metadata": {},
   "outputs": [],
   "source": [
    "logging.info(\"this is my print\")\n",
    "# the info which we taken it will go to hard disk and we can investiget. it will \n",
    "#be run ,when we go though next time.use easyly handle it.\n",
    "# in logging their are sevral levels\n",
    "#1.NOTSET\n",
    "#2. DEBUG\n",
    "#3.INFO\n",
    "#4.WARNING\n",
    "#5.ERROR\n",
    "#6.CRITICAL\n"
   ]
  },
  {
   "cell_type": "code",
   "execution_count": 21,
   "id": "a14960b4",
   "metadata": {},
   "outputs": [],
   "source": [
    "logging.debug(\"this is my message\")\n",
    "# here the message is not logged.because the debug is upwared than the INFO \n",
    "#level, so can not logged the message which is debuged."
   ]
  },
  {
   "cell_type": "code",
   "execution_count": 22,
   "id": "ece3685f",
   "metadata": {},
   "outputs": [],
   "source": [
    "logging.warning(\"this is warnning meassage\")\n",
    "# here the warnning message will be logged , cause warning is in next level of \n",
    "#info  . "
   ]
  },
  {
   "cell_type": "code",
   "execution_count": 23,
   "id": "c1c67c7e",
   "metadata": {},
   "outputs": [],
   "source": [
    "logging.error(\"this is my error\")"
   ]
  },
  {
   "cell_type": "code",
   "execution_count": 24,
   "id": "07de8193",
   "metadata": {},
   "outputs": [],
   "source": [
    "logging.critical(\"This is my critical\")"
   ]
  },
  {
   "cell_type": "code",
   "execution_count": 30,
   "id": "8615dc85",
   "metadata": {},
   "outputs": [],
   "source": [
    "logging.shutdown()"
   ]
  },
  {
   "cell_type": "code",
   "execution_count": 31,
   "id": "f22ccc01",
   "metadata": {},
   "outputs": [],
   "source": [
    "import logging"
   ]
  },
  {
   "cell_type": "code",
   "execution_count": 32,
   "id": "9a58e1b3",
   "metadata": {},
   "outputs": [],
   "source": [
    "logging.basicConfig(filename = \"test5.log\" , level = logging.DEBUG , format = '%(asctime)s %(message)s' )\n",
    "# here in the format we can edit as per our requirement\n",
    "# we can store time also with help of asctime ."
   ]
  },
  {
   "cell_type": "code",
   "execution_count": 33,
   "id": "a1692df9",
   "metadata": {},
   "outputs": [],
   "source": [
    "logging.info(\"This is my info logging\")\n",
    "logging.error(\"This is my error message\")\n",
    "logging.critical(\"this is my critical\")"
   ]
  },
  {
   "cell_type": "code",
   "execution_count": 34,
   "id": "72509df7",
   "metadata": {},
   "outputs": [],
   "source": [
    "logging.shutdown()"
   ]
  },
  {
   "cell_type": "code",
   "execution_count": null,
   "id": "d69dc2f8",
   "metadata": {},
   "outputs": [],
   "source": []
  }
 ],
 "metadata": {
  "kernelspec": {
   "display_name": "Python 3 (ipykernel)",
   "language": "python",
   "name": "python3"
  },
  "language_info": {
   "codemirror_mode": {
    "name": "ipython",
    "version": 3
   },
   "file_extension": ".py",
   "mimetype": "text/x-python",
   "name": "python",
   "nbconvert_exporter": "python",
   "pygments_lexer": "ipython3",
   "version": "3.9.13"
  }
 },
 "nbformat": 4,
 "nbformat_minor": 5
}

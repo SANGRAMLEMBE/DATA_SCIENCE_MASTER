{
 "cells": [
  {
   "cell_type": "code",
   "execution_count": 1,
   "id": "deee86fc",
   "metadata": {},
   "outputs": [],
   "source": [
    "a=10"
   ]
  },
  {
   "cell_type": "code",
   "execution_count": 2,
   "id": "707e0635",
   "metadata": {},
   "outputs": [
    {
     "ename": "ZeroDivisionError",
     "evalue": "division by zero",
     "output_type": "error",
     "traceback": [
      "\u001b[1;31m---------------------------------------------------------------------------\u001b[0m",
      "\u001b[1;31mZeroDivisionError\u001b[0m                         Traceback (most recent call last)",
      "\u001b[1;32m~\\AppData\\Local\\Temp\\ipykernel_10008\\4102073204.py\u001b[0m in \u001b[0;36m<module>\u001b[1;34m\u001b[0m\n\u001b[1;32m----> 1\u001b[1;33m \u001b[0ma\u001b[0m\u001b[1;33m/\u001b[0m\u001b[1;36m0\u001b[0m\u001b[1;33m\u001b[0m\u001b[1;33m\u001b[0m\u001b[0m\n\u001b[0m",
      "\u001b[1;31mZeroDivisionError\u001b[0m: division by zero"
     ]
    }
   ],
   "source": [
    "a/0  # when we run code if there is any error it shows error and does not \n",
    "# run next line until the error doesnot get solved\n"
   ]
  },
  {
   "cell_type": "code",
   "execution_count": 5,
   "id": "655145d4",
   "metadata": {},
   "outputs": [
    {
     "ename": "FileNotFoundError",
     "evalue": "[Errno 2] No such file or directory: 'test001.txt'",
     "output_type": "error",
     "traceback": [
      "\u001b[1;31m---------------------------------------------------------------------------\u001b[0m",
      "\u001b[1;31mFileNotFoundError\u001b[0m                         Traceback (most recent call last)",
      "\u001b[1;32m~\\AppData\\Local\\Temp\\ipykernel_10008\\221419200.py\u001b[0m in \u001b[0;36m<module>\u001b[1;34m\u001b[0m\n\u001b[1;32m----> 1\u001b[1;33m \u001b[0mf\u001b[0m\u001b[1;33m=\u001b[0m\u001b[0mopen\u001b[0m\u001b[1;33m(\u001b[0m\u001b[1;34m\"test001.txt\"\u001b[0m\u001b[1;33m,\u001b[0m\u001b[1;34m'r'\u001b[0m\u001b[1;33m)\u001b[0m\u001b[1;33m\u001b[0m\u001b[1;33m\u001b[0m\u001b[0m\n\u001b[0m\u001b[0;32m      2\u001b[0m \u001b[0mprint\u001b[0m\u001b[1;33m(\u001b[0m\u001b[1;34m\"this is my print\"\u001b[0m\u001b[1;33m)\u001b[0m\u001b[1;33m\u001b[0m\u001b[1;33m\u001b[0m\u001b[0m\n",
      "\u001b[1;31mFileNotFoundError\u001b[0m: [Errno 2] No such file or directory: 'test001.txt'"
     ]
    }
   ],
   "source": [
    "f=open(\"test001.txt\",'r')\n",
    "print(\"this is my print\")\n",
    "# here we dont have the file name test001 so it shows error ; but next line does\n",
    "#not have any error then also it not get run"
   ]
  },
  {
   "cell_type": "code",
   "execution_count": 10,
   "id": "ef37c1df",
   "metadata": {},
   "outputs": [
    {
     "name": "stdout",
     "output_type": "stream",
     "text": [
      "this is my except Block [Errno 2] No such file or directory: 'test0001.txt'\n"
     ]
    },
    {
     "data": {
      "text/plain": [
       "9"
      ]
     },
     "execution_count": 10,
     "metadata": {},
     "output_type": "execute_result"
    }
   ],
   "source": [
    "try :\n",
    "    f=open(\"test0001.txt\",'r')\n",
    "except Exception as e:\n",
    "    print(\"this is my except Block\",e)\n",
    "a=4+5\n",
    "a\n",
    "# here we try and exception , so their is error in 1st row but then also it \n",
    "# runs 2nd line correctly"
   ]
  },
  {
   "cell_type": "code",
   "execution_count": 19,
   "id": "ca5c44d5",
   "metadata": {},
   "outputs": [
    {
     "name": "stdout",
     "output_type": "stream",
     "text": [
      "this will be exicuted once your try will execute without error\n"
     ]
    }
   ],
   "source": [
    "try :\n",
    "    f=open(\"test001.txt\",'w')\n",
    "    f.write(\"Write into the File\")\n",
    "  \n",
    "    \n",
    "except Exception as e:\n",
    "    print(\"this is my except block\",e)\n",
    "    \n",
    "else :\n",
    "    f.close()\n",
    "    print(\"this will be exicuted once your try will execute without error\")\n",
    "\n",
    "# now here (w ) write creates a file to write , so it not showing a error\n",
    "# it will get exicuted \n"
   ]
  },
  {
   "cell_type": "code",
   "execution_count": 22,
   "id": "bb2db5c8",
   "metadata": {},
   "outputs": [
    {
     "name": "stdout",
     "output_type": "stream",
     "text": [
      "this is my except block [Errno 2] No such file or directory: 'test002.txt'\n"
     ]
    }
   ],
   "source": [
    "try :\n",
    "    f=open(\"test002.txt\",'r')\n",
    "    f.write(\"write into the file\")\n",
    "  \n",
    "    \n",
    "except Exception as e:\n",
    "    print(\"this is my except block\",e)\n",
    "    \n",
    "else :\n",
    "    f.close()\n",
    "    print(\"this will be exicuted once your try will execute without error\")\n",
    "    \n",
    "#now the except block get runed , here in try their is a error.\n",
    "#else block is not run.\n"
   ]
  },
  {
   "cell_type": "code",
   "execution_count": 23,
   "id": "82ac7cbc",
   "metadata": {},
   "outputs": [
    {
     "name": "stdout",
     "output_type": "stream",
     "text": [
      "finally will exicute itself in any situation\n"
     ]
    }
   ],
   "source": [
    "try:\n",
    "    f= open(\"test002.txt\",'w')\n",
    "    f.write(\"write somthing\")\n",
    "    \n",
    "finally:\n",
    "    print(\"finally will exicute itself in any situation\")"
   ]
  },
  {
   "cell_type": "code",
   "execution_count": 26,
   "id": "e4f70a1b",
   "metadata": {},
   "outputs": [
    {
     "name": "stdout",
     "output_type": "stream",
     "text": [
      "finally will exicute itself in any situation\n"
     ]
    },
    {
     "ename": "FileNotFoundError",
     "evalue": "[Errno 2] No such file or directory: 'test03.txt'",
     "output_type": "error",
     "traceback": [
      "\u001b[1;31m---------------------------------------------------------------------------\u001b[0m",
      "\u001b[1;31mFileNotFoundError\u001b[0m                         Traceback (most recent call last)",
      "\u001b[1;32m~\\AppData\\Local\\Temp\\ipykernel_10008\\1397879857.py\u001b[0m in \u001b[0;36m<module>\u001b[1;34m\u001b[0m\n\u001b[0;32m      1\u001b[0m \u001b[1;32mtry\u001b[0m\u001b[1;33m:\u001b[0m\u001b[1;33m\u001b[0m\u001b[1;33m\u001b[0m\u001b[0m\n\u001b[1;32m----> 2\u001b[1;33m     \u001b[0mf\u001b[0m\u001b[1;33m=\u001b[0m \u001b[0mopen\u001b[0m\u001b[1;33m(\u001b[0m\u001b[1;34m\"test03.txt\"\u001b[0m\u001b[1;33m,\u001b[0m\u001b[1;34m'r'\u001b[0m\u001b[1;33m)\u001b[0m\u001b[1;33m\u001b[0m\u001b[1;33m\u001b[0m\u001b[0m\n\u001b[0m\u001b[0;32m      3\u001b[0m     \u001b[0mf\u001b[0m\u001b[1;33m.\u001b[0m\u001b[0mwrite\u001b[0m\u001b[1;33m(\u001b[0m\u001b[1;34m\"write somthing\"\u001b[0m\u001b[1;33m)\u001b[0m\u001b[1;33m\u001b[0m\u001b[1;33m\u001b[0m\u001b[0m\n\u001b[0;32m      4\u001b[0m \u001b[1;33m\u001b[0m\u001b[0m\n\u001b[0;32m      5\u001b[0m \u001b[1;32mfinally\u001b[0m\u001b[1;33m:\u001b[0m\u001b[1;33m\u001b[0m\u001b[1;33m\u001b[0m\u001b[0m\n",
      "\u001b[1;31mFileNotFoundError\u001b[0m: [Errno 2] No such file or directory: 'test03.txt'"
     ]
    }
   ],
   "source": [
    "try:\n",
    "    f= open(\"test03.txt\",'r')\n",
    "    f.write(\"write somthing\")\n",
    "    \n",
    "finally:\n",
    "    print(\"finally will exicute itself in any situation\")\n",
    "    \n",
    "#finally will have to exicute in any time "
   ]
  },
  {
   "cell_type": "code",
   "execution_count": null,
   "id": "401ce679",
   "metadata": {},
   "outputs": [],
   "source": []
  }
 ],
 "metadata": {
  "kernelspec": {
   "display_name": "Python 3 (ipykernel)",
   "language": "python",
   "name": "python3"
  },
  "language_info": {
   "codemirror_mode": {
    "name": "ipython",
    "version": 3
   },
   "file_extension": ".py",
   "mimetype": "text/x-python",
   "name": "python",
   "nbconvert_exporter": "python",
   "pygments_lexer": "ipython3",
   "version": "3.9.13"
  }
 },
 "nbformat": 4,
 "nbformat_minor": 5
}

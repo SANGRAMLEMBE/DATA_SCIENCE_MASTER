{
 "cells": [
  {
   "cell_type": "code",
   "execution_count": 26,
   "id": "f54b2e64-c91c-4a6d-822b-6630c09e8962",
   "metadata": {},
   "outputs": [],
   "source": [
    "f = open(\"test001.txt\",\"w\")\n"
   ]
  },
  {
   "cell_type": "code",
   "execution_count": 27,
   "id": "42c181b6-eba6-41f5-a47c-69b1f1be927d",
   "metadata": {},
   "outputs": [
    {
     "data": {
      "text/plain": [
       "'/home/jovyan/work'"
      ]
     },
     "execution_count": 27,
     "metadata": {},
     "output_type": "execute_result"
    }
   ],
   "source": [
    "pwd"
   ]
  },
  {
   "cell_type": "code",
   "execution_count": 28,
   "id": "7049744c-a354-483d-9348-54dd87ad4ba6",
   "metadata": {},
   "outputs": [
    {
     "name": "stdout",
     "output_type": "stream",
     "text": [
      "\u001b[0m\u001b[01;34m'assigmnment solution'\u001b[0m/      assignment_6_5feb.ipynb   test001.txt\n",
      " assignment_10_9_feb.ipynb   assignment_9_8feb.ipynb   test.txt\n",
      " assignment_5_4feb.ipynb     Files_11feb.ipynb         Untitled.ipynb\n"
     ]
    }
   ],
   "source": [
    "ls"
   ]
  },
  {
   "cell_type": "code",
   "execution_count": 29,
   "id": "826c32f6-7d06-4918-a62b-c30a993580c8",
   "metadata": {},
   "outputs": [
    {
     "name": "stdout",
     "output_type": "stream",
     "text": [
      "\u001b[0m\u001b[01;34m'assigmnment solution'\u001b[0m/      assignment_6_5feb.ipynb   test001.txt\n",
      " assignment_10_9_feb.ipynb   assignment_9_8feb.ipynb   test.txt\n",
      " assignment_5_4feb.ipynb     Files_11feb.ipynb         Untitled.ipynb\n"
     ]
    }
   ],
   "source": [
    "ls \n"
   ]
  },
  {
   "cell_type": "code",
   "execution_count": 30,
   "id": "9f98650b-21d3-4513-b60d-6e3112e66187",
   "metadata": {},
   "outputs": [
    {
     "name": "stdout",
     "output_type": "stream",
     "text": [
      "[Errno 2] No such file or directory: 'work'\n",
      "/home/jovyan/work\n"
     ]
    }
   ],
   "source": [
    "cd work"
   ]
  },
  {
   "cell_type": "code",
   "execution_count": 31,
   "id": "43f3da73-fc10-461d-b43c-3bcb827b9e3b",
   "metadata": {},
   "outputs": [
    {
     "name": "stdout",
     "output_type": "stream",
     "text": [
      "\u001b[0m\u001b[01;34m'assigmnment solution'\u001b[0m/      assignment_6_5feb.ipynb   test001.txt\n",
      " assignment_10_9_feb.ipynb   assignment_9_8feb.ipynb   test.txt\n",
      " assignment_5_4feb.ipynb     Files_11feb.ipynb         Untitled.ipynb\n"
     ]
    }
   ],
   "source": [
    "ls"
   ]
  },
  {
   "cell_type": "code",
   "execution_count": 32,
   "id": "c1001245-2eb0-42d9-925e-c361c014928f",
   "metadata": {},
   "outputs": [
    {
     "data": {
      "text/plain": [
       "25"
      ]
     },
     "execution_count": 32,
     "metadata": {},
     "output_type": "execute_result"
    }
   ],
   "source": [
    "f.write(\"this is 1st file to write\")"
   ]
  },
  {
   "cell_type": "code",
   "execution_count": 22,
   "id": "e07d3b06-f5b9-4bf8-9b74-57f56eef03d7",
   "metadata": {},
   "outputs": [],
   "source": [
    "f.close()"
   ]
  },
  {
   "cell_type": "code",
   "execution_count": 33,
   "id": "a179e33c-ed7b-441d-98b0-7042c463cfc4",
   "metadata": {},
   "outputs": [],
   "source": [
    "f = open(\"test001.txt\",\"w\") # when we use w means write then it overwrite on the before data."
   ]
  },
  {
   "cell_type": "code",
   "execution_count": 34,
   "id": "1bd06e7b-09df-400e-9524-ac88ff86b112",
   "metadata": {},
   "outputs": [
    {
     "data": {
      "text/plain": [
       "15"
      ]
     },
     "execution_count": 34,
     "metadata": {},
     "output_type": "execute_result"
    }
   ],
   "source": [
    "f.write(\"this is my file\")"
   ]
  },
  {
   "cell_type": "code",
   "execution_count": 36,
   "id": "af8445c2-5bd6-487c-8394-e1ff8c4b6768",
   "metadata": {},
   "outputs": [],
   "source": [
    "f.close()"
   ]
  },
  {
   "cell_type": "code",
   "execution_count": 37,
   "id": "10967820-db84-4acc-94b1-b3c49b088ca4",
   "metadata": {},
   "outputs": [],
   "source": [
    "f = open(\"test001.txt\",\"a\")  # we use a as to add at the end ."
   ]
  },
  {
   "cell_type": "code",
   "execution_count": 38,
   "id": "e94fc310-c18c-47dd-a373-264529b43e1b",
   "metadata": {},
   "outputs": [
    {
     "data": {
      "text/plain": [
       "1143"
      ]
     },
     "execution_count": 38,
     "metadata": {},
     "output_type": "execute_result"
    }
   ],
   "source": [
    "f.write(\" oin our intensive two-day live training program designed to build an industry-ready, end-to-end application using Node.js. This comprehensive course will cover all the essential topics, including Node.js, Express, and MongoDB, empowering you to create scalable and efficient backend applications. Through a series of interactive and regressive classes, you will gain a deep understanding of Node.js and its ecosystem, learn how to leverage the power of Express to build robust APIs, and master MongoDB for seamless data storage and retrieval. To further enhance your learning experience, we will provide you with a series of assignments and a comprehensive end-to-end project. By completing these tasks, you will solidify your understanding of the concepts and demonstrate your ability to apply them in practical scenarios. As a bonus, those who complete all the assignments and the end-to-end project will receive exclusive access to our upcoming job fair. Take advantage of this chance to gain in-demand skills and build a portfolio-ready application. Enroll now and take the first step towards becoming an industry-ready backend developer.\")"
   ]
  },
  {
   "cell_type": "code",
   "execution_count": 39,
   "id": "ebfdf5de-eb5c-4e24-926c-f8461cbfdbb9",
   "metadata": {},
   "outputs": [],
   "source": [
    "f.close()"
   ]
  },
  {
   "cell_type": "code",
   "execution_count": 7,
   "id": "1e5de64e-4e19-44f6-8453-3b7872bfb6e0",
   "metadata": {},
   "outputs": [],
   "source": [
    "ff = open(\"test001.txt\",\"r\") "
   ]
  },
  {
   "cell_type": "code",
   "execution_count": 8,
   "id": "0ad38c48-ec25-4035-b88c-79ca9d473bc5",
   "metadata": {},
   "outputs": [],
   "source": [
    "data = ff.read()"
   ]
  },
  {
   "cell_type": "code",
   "execution_count": 9,
   "id": "38b2e14d-7003-4d53-87ce-78d7b43151fe",
   "metadata": {},
   "outputs": [
    {
     "data": {
      "text/plain": [
       "'this is my filee to write oin our intensive two-day live training program designed to build an industry-ready, end-to-end application using Node.js. This comprehensive course will cover all the essential topics, including Node.js, Express, and MongoDB, empowering you to create scalable and efficient backend applications. Through a series of interactive and regressive classes, you will gain a deep understanding of Node.js and its ecosystem, learn how to leverage the power of Express to build robust APIs, and master MongoDB for seamless data storage and retrieval. To further enhance your learning experience, we will provide you with a series of assignments and a comprehensive end-to-end project. By completing these tasks, you will solidify your understanding of the concepts and demonstrate your ability to apply them in practical scenarios. As a bonus, those who complete all the assignments and the end-to-end project will receive exclusive access to our upcoming job fair. Take advantage of this chance to gain in-demand skills and build a portfolio-ready application. Enroll now and take the first step towards becoming an industry-ready backend developer.'"
      ]
     },
     "execution_count": 9,
     "metadata": {},
     "output_type": "execute_result"
    }
   ],
   "source": [
    "data"
   ]
  },
  {
   "cell_type": "code",
   "execution_count": 10,
   "id": "bb1cf1bd-fb0e-4e28-8914-3f1269687e03",
   "metadata": {},
   "outputs": [
    {
     "data": {
      "text/plain": [
       "0"
      ]
     },
     "execution_count": 10,
     "metadata": {},
     "output_type": "execute_result"
    }
   ],
   "source": [
    "ff.seek(0)  # now pointer is going at 0 th position"
   ]
  },
  {
   "cell_type": "code",
   "execution_count": 11,
   "id": "2711b641-0dc9-416d-ab79-17ed105b90b1",
   "metadata": {},
   "outputs": [
    {
     "data": {
      "text/plain": [
       "'this is my filee to write oin our intensive two-day live training program designed to build an industry-ready, end-to-end application using Node.js. This comprehensive course will cover all the essential topics, including Node.js, Express, and MongoDB, empowering you to create scalable and efficient backend applications. Through a series of interactive and regressive classes, you will gain a deep understanding of Node.js and its ecosystem, learn how to leverage the power of Express to build robust APIs, and master MongoDB for seamless data storage and retrieval. To further enhance your learning experience, we will provide you with a series of assignments and a comprehensive end-to-end project. By completing these tasks, you will solidify your understanding of the concepts and demonstrate your ability to apply them in practical scenarios. As a bonus, those who complete all the assignments and the end-to-end project will receive exclusive access to our upcoming job fair. Take advantage of this chance to gain in-demand skills and build a portfolio-ready application. Enroll now and take the first step towards becoming an industry-ready backend developer.'"
      ]
     },
     "execution_count": 11,
     "metadata": {},
     "output_type": "execute_result"
    }
   ],
   "source": [
    "ff.readline()"
   ]
  },
  {
   "cell_type": "code",
   "execution_count": 17,
   "id": "52965bc9-2fee-4825-8414-b63ff2174fed",
   "metadata": {},
   "outputs": [
    {
     "data": {
      "text/plain": [
       "10"
      ]
     },
     "execution_count": 17,
     "metadata": {},
     "output_type": "execute_result"
    }
   ],
   "source": [
    "ff.seek(10)  # Now the pointer is going at 10th position"
   ]
  },
  {
   "cell_type": "code",
   "execution_count": 18,
   "id": "9681837f-41b5-471a-8957-7965f2188eaa",
   "metadata": {},
   "outputs": [
    {
     "data": {
      "text/plain": [
       "' filee to write oin our intensive two-day live training program designed to build an industry-ready, end-to-end application using Node.js. This comprehensive course will cover all the essential topics, including Node.js, Express, and MongoDB, empowering you to create scalable and efficient backend applications. Through a series of interactive and regressive classes, you will gain a deep understanding of Node.js and its ecosystem, learn how to leverage the power of Express to build robust APIs, and master MongoDB for seamless data storage and retrieval. To further enhance your learning experience, we will provide you with a series of assignments and a comprehensive end-to-end project. By completing these tasks, you will solidify your understanding of the concepts and demonstrate your ability to apply them in practical scenarios. As a bonus, those who complete all the assignments and the end-to-end project will receive exclusive access to our upcoming job fair. Take advantage of this chance to gain in-demand skills and build a portfolio-ready application. Enroll now and take the first step towards becoming an industry-ready backend developer.'"
      ]
     },
     "execution_count": 18,
     "metadata": {},
     "output_type": "execute_result"
    }
   ],
   "source": [
    "ff.readline() # it started from 11th position"
   ]
  },
  {
   "cell_type": "code",
   "execution_count": 14,
   "id": "9780fe95-b87a-4b4b-b4b1-fadb4e684caf",
   "metadata": {},
   "outputs": [],
   "source": [
    "data1 = open(\"test001.txt\",\"r\")"
   ]
  },
  {
   "cell_type": "code",
   "execution_count": 15,
   "id": "9a19c1e7-16cd-4545-ae65-1daf8869eae9",
   "metadata": {},
   "outputs": [
    {
     "name": "stdout",
     "output_type": "stream",
     "text": [
      "this is my filee to write oin our intensive two-day live training program designed to build an industry-ready, end-to-end application using Node.js. This comprehensive course will cover all the essential topics, including Node.js, Express, and MongoDB, empowering you to create scalable and efficient backend applications. Through a series of interactive and regressive classes, you will gain a deep understanding of Node.js and its ecosystem, learn how to leverage the power of Express to build robust APIs, and master MongoDB for seamless data storage and retrieval. To further enhance your learning experience, we will provide you with a series of assignments and a comprehensive end-to-end project. By completing these tasks, you will solidify your understanding of the concepts and demonstrate your ability to apply them in practical scenarios. As a bonus, those who complete all the assignments and the end-to-end project will receive exclusive access to our upcoming job fair. Take advantage of this chance to gain in-demand skills and build a portfolio-ready application. Enroll now and take the first step towards becoming an industry-ready backend developer.\n"
     ]
    }
   ],
   "source": [
    "for i in data1:\n",
    "    print(i)"
   ]
  },
  {
   "cell_type": "code",
   "execution_count": null,
   "id": "9572dd3f-d8d7-4868-8ef3-4c7d3b51a362",
   "metadata": {},
   "outputs": [],
   "source": [
    "import os\n",
    "# we use thiss module for checking file size"
   ]
  },
  {
   "cell_type": "code",
   "execution_count": null,
   "id": "2e6b7167-46e3-4749-a8d8-44a3ad5ac0e7",
   "metadata": {},
   "outputs": [],
   "source": [
    "os.path.getsize(\"test001.txt\")  # it showes size in bits "
   ]
  },
  {
   "cell_type": "code",
   "execution_count": null,
   "id": "92dc5178-56c6-4790-9891-3685e0496d41",
   "metadata": {},
   "outputs": [],
   "source": [
    "f= open(\"test1.txt\",\"w\")"
   ]
  },
  {
   "cell_type": "code",
   "execution_count": null,
   "id": "956aa5e8-09bf-4fc2-9cb7-549b40b705ac",
   "metadata": {},
   "outputs": [],
   "source": [
    "f.write(\"this is my filee to write oin our intensive two-day live training program designed to build an industry-ready, end-to-end application using Node.js. This comprehensive course will cover all the essential topics, including Node.js, Express, and MongoDB, empowering you to create scalable and efficient backend applications. Through a series of interactive and regressive classes, you will gain a deep understanding of Node.js and its ecosystem, learn how to leverage the power of Express to build robust APIs, and master MongoDB for seamless data storage and retrieval. To further enhance your learning experience, we will provide you with a series of assignments and a comprehensive end-to-end project. By completing these tasks, you will solidify your understanding of the concepts and demonstrate your ability to apply them in practical scenarios. As a bonus, those who complete all the assignments and the end-to-end project will receive exclusive access to our upcoming job fair. Take advantage of this chance to gain in-demand skills and build a portfolio-ready application. Enroll now and take the first step towards becoming an industry-ready backend developer.\")"
   ]
  },
  {
   "cell_type": "code",
   "execution_count": null,
   "id": "a5d1eee3-f1dd-4d1f-8c07-d3e311a790fd",
   "metadata": {},
   "outputs": [],
   "source": [
    "f.close()"
   ]
  },
  {
   "cell_type": "code",
   "execution_count": null,
   "id": "bca229d3-8583-4d2c-8e2c-1afae6a21a4f",
   "metadata": {},
   "outputs": [],
   "source": [
    "os.rename(\"test1.txt\" , \"new.txt\")"
   ]
  },
  {
   "cell_type": "code",
   "execution_count": null,
   "id": "1e29082b-c182-4cf7-b2ae-dbfe61ca4069",
   "metadata": {},
   "outputs": [],
   "source": [
    "import shutil"
   ]
  },
  {
   "cell_type": "code",
   "execution_count": null,
   "id": "8340a780-e1a0-4bf5-af91-0d945fba20f3",
   "metadata": {},
   "outputs": [],
   "source": [
    "shutil.copy(\"new.txt\",\"copy_new.txt\")"
   ]
  },
  {
   "cell_type": "code",
   "execution_count": null,
   "id": "63857e6d-10c7-4a12-875d-7c53f45900d8",
   "metadata": {},
   "outputs": [],
   "source": [
    "with open(\"new.txt\".\"r\") as f:\n",
    "    print(f.read())"
   ]
  },
  {
   "cell_type": "code",
   "execution_count": null,
   "id": "e8b12b39-0af9-446c-9c7e-2e9d4ca8ffd4",
   "metadata": {},
   "outputs": [],
   "source": []
  }
 ],
 "metadata": {
  "kernelspec": {
   "display_name": "Python 3 (ipykernel)",
   "language": "python",
   "name": "python3"
  },
  "language_info": {
   "codemirror_mode": {
    "name": "ipython",
    "version": 3
   },
   "file_extension": ".py",
   "mimetype": "text/x-python",
   "name": "python",
   "nbconvert_exporter": "python",
   "pygments_lexer": "ipython3",
   "version": "3.10.8"
  }
 },
 "nbformat": 4,
 "nbformat_minor": 5
}

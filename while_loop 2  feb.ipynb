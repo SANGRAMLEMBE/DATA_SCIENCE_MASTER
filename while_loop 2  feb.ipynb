{
 "cells": [
  {
   "cell_type": "code",
   "execution_count": null,
   "id": "d9a81f8f",
   "metadata": {},
   "outputs": [],
   "source": [
    "a=1  \n",
    "while a<=10:\n",
    "    print(a)\n",
    "    a=a+1"
   ]
  },
  {
   "cell_type": "code",
   "execution_count": null,
   "id": "0eb65560",
   "metadata": {},
   "outputs": [],
   "source": [
    "#sum up the no  till sum point\n",
    "\n",
    "n=int(input(\"enter your limit\"))\n",
    "strting_point=0\n",
    "counter=1\n",
    "\n",
    "while counter<=n:\n",
    "    strting_point=strting_point+counter\n",
    "    counter=counter+1\n",
    "strting_point"
   ]
  },
  {
   "cell_type": "code",
   "execution_count": null,
   "id": "1a5205b7",
   "metadata": {},
   "outputs": [],
   "source": [
    "n=int(input(\"enter your limit\"))\n",
    "strting_point=0\n",
    "counter=1\n",
    "\n",
    "while counter<=n:\n",
    "    strting_point=strting_point+counter\n",
    "    counter=counter+1\n",
    "strting_point"
   ]
  },
  {
   "cell_type": "code",
   "execution_count": null,
   "id": "0deb25e9",
   "metadata": {},
   "outputs": [],
   "source": []
  }
 ],
 "metadata": {
  "kernelspec": {
   "display_name": "Python 3 (ipykernel)",
   "language": "python",
   "name": "python3"
  },
  "language_info": {
   "codemirror_mode": {
    "name": "ipython",
    "version": 3
   },
   "file_extension": ".py",
   "mimetype": "text/x-python",
   "name": "python",
   "nbconvert_exporter": "python",
   "pygments_lexer": "ipython3",
   "version": "3.9.13"
  }
 },
 "nbformat": 4,
 "nbformat_minor": 5
}

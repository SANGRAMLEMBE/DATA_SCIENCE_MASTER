{
 "cells": [
  {
   "cell_type": "code",
   "execution_count": 1,
   "id": "86a606f6",
   "metadata": {},
   "outputs": [],
   "source": [
    " class pwskills:\n",
    "        def student_details(self,name,mail_id,number):\n",
    "            print(name,mail_id,number)\n",
    "            "
   ]
  },
  {
   "cell_type": "code",
   "execution_count": 2,
   "id": "1ad6e00c",
   "metadata": {},
   "outputs": [],
   "source": [
    "pw =pwskills()"
   ]
  },
  {
   "cell_type": "code",
   "execution_count": 3,
   "id": "f6b9758e",
   "metadata": {},
   "outputs": [
    {
     "name": "stdout",
     "output_type": "stream",
     "text": [
      "sangram sangram@gmail.com 9158416688\n"
     ]
    }
   ],
   "source": [
    "pw.student_details(\"sangram\",\"sangram@gmail.com\",9158416688)\n"
   ]
  },
  {
   "cell_type": "code",
   "execution_count": 7,
   "id": "b799e78c",
   "metadata": {},
   "outputs": [],
   "source": [
    "class pwskills1:\n",
    "        def student_details(self,name,mail_id,number):\n",
    "            print(name,mail_id,number)\n",
    "        \n",
    "        @staticmethod\n",
    "        def mentor_class(list_mentor):\n",
    "            print(list_mentor)\n",
    "            \n",
    "        def mentor(self,mento_list):\n",
    "            print(mento_list)\n",
    "            \n",
    "# by  using static method we can use a function repitatively for different \n",
    "# different objects. "
   ]
  },
  {
   "cell_type": "code",
   "execution_count": 8,
   "id": "ab9ec943",
   "metadata": {},
   "outputs": [
    {
     "name": "stdout",
     "output_type": "stream",
     "text": [
      "['sangram', 'rutik', 'pratic']\n"
     ]
    }
   ],
   "source": [
    "pwskills1.mentor_class([\"sangram\",\"rutik\",\"pratic\"])"
   ]
  },
  {
   "cell_type": "code",
   "execution_count": 9,
   "id": "b08de3d6",
   "metadata": {},
   "outputs": [],
   "source": [
    "stud1 = pwskills1()\n",
    "stud2 = pwskills1()\n",
    "stud3 = pwskills1()\n"
   ]
  },
  {
   "cell_type": "code",
   "execution_count": 10,
   "id": "9ce43882",
   "metadata": {},
   "outputs": [
    {
     "name": "stdout",
     "output_type": "stream",
     "text": [
      "['sudh', 'krish']\n"
     ]
    }
   ],
   "source": [
    "stud1.mentor([\"sudh\",\"krish\"])"
   ]
  },
  {
   "cell_type": "code",
   "execution_count": 25,
   "id": "97a7b41e",
   "metadata": {},
   "outputs": [],
   "source": [
    "# how to use static method in function\n",
    "\n",
    "class pwskills2:\n",
    "        def student_details(self,name,mail_id,number):\n",
    "            print(name,mail_id,number)\n",
    "        \n",
    "        @staticmethod\n",
    "        def mentor_mail_id(mail_id_mentor):\n",
    "            print(mail_id_mentor)\n",
    "        \n",
    "        \n",
    "        @staticmethod\n",
    "        def mentor_class(list_mentor):\n",
    "            pwskills2.mentor_mail_id([\"sudh@gmail.com\",\"krish@gmail.com\"])\n",
    "            print(list_mentor)\n",
    "        \n",
    "        @classmethod\n",
    "        def class_name(cls):\n",
    "            cls.mentor_class([\"sudhanshu\",\"krish\"])\n",
    "        # here we are using static method in class \n",
    "        \n",
    "        \n",
    "        def mentor(self,mento_list):\n",
    "            print(mento_list)\n",
    "            self.mentor_class([\"krish\",\"sudh\"])\n",
    "            #static method in instance \n",
    "            "
   ]
  },
  {
   "cell_type": "code",
   "execution_count": 26,
   "id": "5f44db07",
   "metadata": {},
   "outputs": [
    {
     "name": "stdout",
     "output_type": "stream",
     "text": [
      "['sudh@gmail.com', 'krish@gmail.com']\n",
      "['sudh', 'krish']\n"
     ]
    }
   ],
   "source": [
    "pwskills2.mentor_class([\"sudh\",\"krish\"])\n",
    "# static in static"
   ]
  },
  {
   "cell_type": "code",
   "execution_count": 27,
   "id": "2dab418c",
   "metadata": {},
   "outputs": [
    {
     "name": "stdout",
     "output_type": "stream",
     "text": [
      "['sudh@gmail.com', 'krish@gmail.com']\n",
      "['sudhanshu', 'krish']\n"
     ]
    }
   ],
   "source": [
    "pwskills2.class_name()"
   ]
  },
  {
   "cell_type": "code",
   "execution_count": 28,
   "id": "9e9dab86",
   "metadata": {},
   "outputs": [],
   "source": [
    "pw = pwskills2()"
   ]
  },
  {
   "cell_type": "code",
   "execution_count": 31,
   "id": "46022d0e",
   "metadata": {},
   "outputs": [
    {
     "name": "stdout",
     "output_type": "stream",
     "text": [
      "['krish', 'sudh']\n",
      "['sudh@gmail.com', 'krish@gmail.com']\n",
      "['krish', 'sudh']\n"
     ]
    }
   ],
   "source": [
    "pw.mentor([\"krish\",\"sudh\"])"
   ]
  },
  {
   "cell_type": "code",
   "execution_count": null,
   "id": "5d1b3ca7",
   "metadata": {},
   "outputs": [],
   "source": []
  },
  {
   "cell_type": "code",
   "execution_count": null,
   "id": "d97e25cc",
   "metadata": {},
   "outputs": [],
   "source": []
  }
 ],
 "metadata": {
  "kernelspec": {
   "display_name": "Python 3 (ipykernel)",
   "language": "python",
   "name": "python3"
  },
  "language_info": {
   "codemirror_mode": {
    "name": "ipython",
    "version": 3
   },
   "file_extension": ".py",
   "mimetype": "text/x-python",
   "name": "python",
   "nbconvert_exporter": "python",
   "pygments_lexer": "ipython3",
   "version": "3.9.13"
  }
 },
 "nbformat": 4,
 "nbformat_minor": 5
}

{
 "cells": [
  {
   "cell_type": "code",
   "execution_count": 1,
   "id": "639c91f4",
   "metadata": {},
   "outputs": [],
   "source": [
    "class test:\n",
    "    def __init__(self,a,b):\n",
    "        self.a = a\n",
    "        self.b = b "
   ]
  },
  {
   "cell_type": "code",
   "execution_count": 3,
   "id": "575aa2b5",
   "metadata": {},
   "outputs": [],
   "source": [
    "t=test(23,34)"
   ]
  },
  {
   "cell_type": "code",
   "execution_count": 4,
   "id": "106bab8b",
   "metadata": {},
   "outputs": [
    {
     "data": {
      "text/plain": [
       "23"
      ]
     },
     "execution_count": 4,
     "metadata": {},
     "output_type": "execute_result"
    }
   ],
   "source": [
    "t.a"
   ]
  },
  {
   "cell_type": "code",
   "execution_count": 5,
   "id": "be0df2ea",
   "metadata": {},
   "outputs": [],
   "source": [
    "t.a = (235689)"
   ]
  },
  {
   "cell_type": "code",
   "execution_count": 6,
   "id": "ae628eaf",
   "metadata": {},
   "outputs": [
    {
     "data": {
      "text/plain": [
       "235689"
      ]
     },
     "execution_count": 6,
     "metadata": {},
     "output_type": "execute_result"
    }
   ],
   "source": [
    "t.a"
   ]
  },
  {
   "cell_type": "code",
   "execution_count": 25,
   "id": "8df22392",
   "metadata": {},
   "outputs": [],
   "source": [
    "class car:\n",
    "    def __init__(self,year,make,model,speed):\n",
    "        self.__year = year\n",
    "        self.__make = make\n",
    "        self.__model = model\n",
    "        self.__speed = 0\n",
    "        \n",
    "#here we using _ _ for hidding attributrs , no one access it easyly.\n",
    "#it become a private\n"
   ]
  },
  {
   "cell_type": "code",
   "execution_count": 26,
   "id": "fb64dd6d",
   "metadata": {},
   "outputs": [],
   "source": [
    "#here we using init so we have to fill the 4 arguments first\n",
    "c =car(2022,\"tata\",\"thar\",160)"
   ]
  },
  {
   "cell_type": "code",
   "execution_count": 27,
   "id": "2cdc15ab",
   "metadata": {},
   "outputs": [
    {
     "data": {
      "text/plain": [
       "2022"
      ]
     },
     "execution_count": 27,
     "metadata": {},
     "output_type": "execute_result"
    }
   ],
   "source": [
    "c._car__year\n"
   ]
  },
  {
   "cell_type": "code",
   "execution_count": 28,
   "id": "f5ac73e7",
   "metadata": {},
   "outputs": [
    {
     "data": {
      "text/plain": [
       "'thar'"
      ]
     },
     "execution_count": 28,
     "metadata": {},
     "output_type": "execute_result"
    }
   ],
   "source": [
    "c._car__model"
   ]
  },
  {
   "cell_type": "code",
   "execution_count": 29,
   "id": "ad92ec1f",
   "metadata": {},
   "outputs": [],
   "source": [
    " class car:\n",
    "    def __init__(self,year,make,model,speed):\n",
    "        self.__year = year\n",
    "        self.__make = make\n",
    "        self.__model = model\n",
    "        self.__speed = 0\n",
    "        \n",
    "    def set_speed(self,speed):\n",
    "        self.__speed = 0 if speed < 0 else speed\n",
    "        \n",
    "# here set do not have _ so it is not private we can access it and it access \n",
    "#for us from init function \n",
    "        \n",
    "    def get_speed(self):\n",
    "        return self.__speed\n",
    "    \n",
    "    \n",
    "        "
   ]
  },
  {
   "cell_type": "code",
   "execution_count": 30,
   "id": "3a4e94dc",
   "metadata": {},
   "outputs": [],
   "source": [
    "c = car(2021,\"mahindra\",\"xuv700\",200)"
   ]
  },
  {
   "cell_type": "code",
   "execution_count": 33,
   "id": "89436cab",
   "metadata": {},
   "outputs": [
    {
     "data": {
      "text/plain": [
       "2021"
      ]
     },
     "execution_count": 33,
     "metadata": {},
     "output_type": "execute_result"
    }
   ],
   "source": [
    "c._car__year"
   ]
  },
  {
   "cell_type": "code",
   "execution_count": 34,
   "id": "dea439a0",
   "metadata": {},
   "outputs": [],
   "source": [
    "c.set_speed(500)"
   ]
  },
  {
   "cell_type": "code",
   "execution_count": 36,
   "id": "58aa5f28",
   "metadata": {},
   "outputs": [
    {
     "data": {
      "text/plain": [
       "500"
      ]
     },
     "execution_count": 36,
     "metadata": {},
     "output_type": "execute_result"
    }
   ],
   "source": [
    "c.get_speed()"
   ]
  },
  {
   "cell_type": "code",
   "execution_count": 8,
   "id": "351e5508",
   "metadata": {},
   "outputs": [],
   "source": [
    "class bank_account:\n",
    "    def __init__(self,balance):\n",
    "        self.__balance = balance\n",
    "     # here balance is private variable\n",
    "    \n",
    "    def deposit(self,amount):\n",
    "        self.__balance = self.__balance + amount   \n",
    "    def withdraw(self , amount):\n",
    "        if self.__balance >= amount:\n",
    "            self.__balance = self.__balance - amount\n",
    "            return True\n",
    "        else :\n",
    "            return False\n",
    "    \n",
    "    def get_balance(self):\n",
    "        return self.__balance"
   ]
  },
  {
   "cell_type": "code",
   "execution_count": 9,
   "id": "216e0d6d",
   "metadata": {},
   "outputs": [],
   "source": [
    "sangram =bank_account(50000)"
   ]
  },
  {
   "cell_type": "code",
   "execution_count": 10,
   "id": "8d262c58",
   "metadata": {},
   "outputs": [
    {
     "data": {
      "text/plain": [
       "50000"
      ]
     },
     "execution_count": 10,
     "metadata": {},
     "output_type": "execute_result"
    }
   ],
   "source": [
    "sangram.get_balance()"
   ]
  },
  {
   "cell_type": "code",
   "execution_count": 11,
   "id": "d379b3f8",
   "metadata": {},
   "outputs": [],
   "source": [
    "sangram.deposit(10000)"
   ]
  },
  {
   "cell_type": "code",
   "execution_count": 12,
   "id": "fab33a16",
   "metadata": {},
   "outputs": [
    {
     "data": {
      "text/plain": [
       "60000"
      ]
     },
     "execution_count": 12,
     "metadata": {},
     "output_type": "execute_result"
    }
   ],
   "source": [
    "sangram.get_balance()"
   ]
  },
  {
   "cell_type": "code",
   "execution_count": 14,
   "id": "32ba1efd",
   "metadata": {},
   "outputs": [
    {
     "data": {
      "text/plain": [
       "True"
      ]
     },
     "execution_count": 14,
     "metadata": {},
     "output_type": "execute_result"
    }
   ],
   "source": [
    "sangram.withdraw(25000) \n"
   ]
  },
  {
   "cell_type": "code",
   "execution_count": 15,
   "id": "c5fc46fe",
   "metadata": {},
   "outputs": [
    {
     "data": {
      "text/plain": [
       "False"
      ]
     },
     "execution_count": 15,
     "metadata": {},
     "output_type": "execute_result"
    }
   ],
   "source": [
    "sangram.withdraw(50000)"
   ]
  },
  {
   "cell_type": "code",
   "execution_count": 16,
   "id": "66ea65ce",
   "metadata": {},
   "outputs": [
    {
     "data": {
      "text/plain": [
       "35000"
      ]
     },
     "execution_count": 16,
     "metadata": {},
     "output_type": "execute_result"
    }
   ],
   "source": [
    "sangram.get_balance()"
   ]
  },
  {
   "cell_type": "code",
   "execution_count": null,
   "id": "703de5e4",
   "metadata": {},
   "outputs": [],
   "source": []
  }
 ],
 "metadata": {
  "kernelspec": {
   "display_name": "Python 3 (ipykernel)",
   "language": "python",
   "name": "python3"
  },
  "language_info": {
   "codemirror_mode": {
    "name": "ipython",
    "version": 3
   },
   "file_extension": ".py",
   "mimetype": "text/x-python",
   "name": "python",
   "nbconvert_exporter": "python",
   "pygments_lexer": "ipython3",
   "version": "3.9.13"
  }
 },
 "nbformat": 4,
 "nbformat_minor": 5
}
